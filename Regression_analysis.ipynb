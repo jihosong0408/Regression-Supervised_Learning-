{
 "cells": [
  {
   "cell_type": "markdown",
   "id": "5afddbd5",
   "metadata": {},
   "source": [
    "# Preparing Dataset"
   ]
  },
  {
   "cell_type": "code",
   "execution_count": 9,
   "id": "eee81bcf",
   "metadata": {
    "scrolled": true
   },
   "outputs": [
    {
     "data": {
      "text/html": [
       "<div>\n",
       "<style scoped>\n",
       "    .dataframe tbody tr th:only-of-type {\n",
       "        vertical-align: middle;\n",
       "    }\n",
       "\n",
       "    .dataframe tbody tr th {\n",
       "        vertical-align: top;\n",
       "    }\n",
       "\n",
       "    .dataframe thead th {\n",
       "        text-align: right;\n",
       "    }\n",
       "</style>\n",
       "<table border=\"1\" class=\"dataframe\">\n",
       "  <thead>\n",
       "    <tr style=\"text-align: right;\">\n",
       "      <th></th>\n",
       "      <th>mage</th>\n",
       "      <th>meduc</th>\n",
       "      <th>monpre</th>\n",
       "      <th>npvis</th>\n",
       "      <th>fage</th>\n",
       "      <th>feduc</th>\n",
       "      <th>omaps</th>\n",
       "      <th>fmaps</th>\n",
       "      <th>cigs</th>\n",
       "      <th>drink</th>\n",
       "      <th>male</th>\n",
       "      <th>mwhte</th>\n",
       "      <th>mblck</th>\n",
       "      <th>moth</th>\n",
       "      <th>fwhte</th>\n",
       "      <th>fblck</th>\n",
       "      <th>foth</th>\n",
       "      <th>bwght</th>\n",
       "    </tr>\n",
       "  </thead>\n",
       "  <tbody>\n",
       "    <tr>\n",
       "      <th>0</th>\n",
       "      <td>69</td>\n",
       "      <td>NaN</td>\n",
       "      <td>5</td>\n",
       "      <td>2.0</td>\n",
       "      <td>62</td>\n",
       "      <td>NaN</td>\n",
       "      <td>4</td>\n",
       "      <td>7</td>\n",
       "      <td>23</td>\n",
       "      <td>9</td>\n",
       "      <td>1</td>\n",
       "      <td>0</td>\n",
       "      <td>1</td>\n",
       "      <td>0</td>\n",
       "      <td>0</td>\n",
       "      <td>1</td>\n",
       "      <td>0</td>\n",
       "      <td>697</td>\n",
       "    </tr>\n",
       "    <tr>\n",
       "      <th>1</th>\n",
       "      <td>68</td>\n",
       "      <td>12.0</td>\n",
       "      <td>3</td>\n",
       "      <td>10.0</td>\n",
       "      <td>61</td>\n",
       "      <td>11.0</td>\n",
       "      <td>4</td>\n",
       "      <td>6</td>\n",
       "      <td>25</td>\n",
       "      <td>11</td>\n",
       "      <td>1</td>\n",
       "      <td>1</td>\n",
       "      <td>0</td>\n",
       "      <td>0</td>\n",
       "      <td>1</td>\n",
       "      <td>0</td>\n",
       "      <td>0</td>\n",
       "      <td>1290</td>\n",
       "    </tr>\n",
       "    <tr>\n",
       "      <th>2</th>\n",
       "      <td>71</td>\n",
       "      <td>12.0</td>\n",
       "      <td>3</td>\n",
       "      <td>6.0</td>\n",
       "      <td>46</td>\n",
       "      <td>12.0</td>\n",
       "      <td>2</td>\n",
       "      <td>7</td>\n",
       "      <td>21</td>\n",
       "      <td>12</td>\n",
       "      <td>1</td>\n",
       "      <td>0</td>\n",
       "      <td>1</td>\n",
       "      <td>0</td>\n",
       "      <td>0</td>\n",
       "      <td>1</td>\n",
       "      <td>0</td>\n",
       "      <td>1490</td>\n",
       "    </tr>\n",
       "    <tr>\n",
       "      <th>3</th>\n",
       "      <td>59</td>\n",
       "      <td>16.0</td>\n",
       "      <td>1</td>\n",
       "      <td>8.0</td>\n",
       "      <td>48</td>\n",
       "      <td>16.0</td>\n",
       "      <td>7</td>\n",
       "      <td>8</td>\n",
       "      <td>21</td>\n",
       "      <td>10</td>\n",
       "      <td>0</td>\n",
       "      <td>0</td>\n",
       "      <td>0</td>\n",
       "      <td>1</td>\n",
       "      <td>0</td>\n",
       "      <td>0</td>\n",
       "      <td>1</td>\n",
       "      <td>1720</td>\n",
       "    </tr>\n",
       "    <tr>\n",
       "      <th>4</th>\n",
       "      <td>48</td>\n",
       "      <td>12.0</td>\n",
       "      <td>4</td>\n",
       "      <td>6.0</td>\n",
       "      <td>39</td>\n",
       "      <td>12.0</td>\n",
       "      <td>2</td>\n",
       "      <td>9</td>\n",
       "      <td>17</td>\n",
       "      <td>13</td>\n",
       "      <td>0</td>\n",
       "      <td>1</td>\n",
       "      <td>0</td>\n",
       "      <td>0</td>\n",
       "      <td>1</td>\n",
       "      <td>0</td>\n",
       "      <td>0</td>\n",
       "      <td>1956</td>\n",
       "    </tr>\n",
       "  </tbody>\n",
       "</table>\n",
       "</div>"
      ],
      "text/plain": [
       "   mage  meduc  monpre  npvis  fage  feduc  omaps  fmaps  cigs  drink  male  mwhte  mblck  moth  fwhte  fblck  foth  bwght\n",
       "0    69    NaN       5    2.0    62    NaN      4      7    23      9     1      0      1     0      0      1     0    697\n",
       "1    68   12.0       3   10.0    61   11.0      4      6    25     11     1      1      0     0      1      0     0   1290\n",
       "2    71   12.0       3    6.0    46   12.0      2      7    21     12     1      0      1     0      0      1     0   1490\n",
       "3    59   16.0       1    8.0    48   16.0      7      8    21     10     0      0      0     1      0      0     1   1720\n",
       "4    48   12.0       4    6.0    39   12.0      2      9    17     13     0      1      0     0      1      0     0   1956"
      ]
     },
     "execution_count": 9,
     "metadata": {},
     "output_type": "execute_result"
    }
   ],
   "source": [
    "# importing libraries\n",
    "import pandas                  as pd # data science essentials\n",
    "import matplotlib.pyplot       as plt # essential graphical output\n",
    "import seaborn                 as sns # enhanced graphical output\n",
    "import statsmodels.formula.api as smf # predictive modeling with nice outputs\n",
    "import numpy                   as np  # mathematical essentials\n",
    "from sklearn.model_selection   import train_test_split # split test set\n",
    "from sklearn.linear_model      import LinearRegression \n",
    "import sklearn.linear_model                               # linear models\n",
    "from sklearn.neighbors         import KNeighborsRegressor # KNN for Regression\n",
    "from sklearn.preprocessing     import StandardScaler      # standard scaler\n",
    "\n",
    "\n",
    "# setting pandas print options\n",
    "pd.set_option('display.max_rows', 500)\n",
    "pd.set_option('display.max_columns', 500)\n",
    "pd.set_option('display.width', 1000)\n",
    "\n",
    "\n",
    "# specifying file name\n",
    "file = './birthweight_low.xlsx'\n",
    "\n",
    "\n",
    "# reading the file into Python\n",
    "birth = pd.read_excel(io = file,\n",
    "                       header = 0)\n",
    "\n",
    "\n",
    "# outputting the first ten rows of the dataset\n",
    "birth.head(n=5)"
   ]
  },
  {
   "cell_type": "code",
   "execution_count": 10,
   "id": "6d628655",
   "metadata": {
    "scrolled": true
   },
   "outputs": [
    {
     "name": "stdout",
     "output_type": "stream",
     "text": [
      "\n",
      "Data shape: (196, 18)\n",
      "\n",
      "****************************************\n",
      "\n",
      "<class 'pandas.core.frame.DataFrame'>\n",
      "RangeIndex: 196 entries, 0 to 195\n",
      "Data columns (total 18 columns):\n",
      " #   Column  Non-Null Count  Dtype  \n",
      "---  ------  --------------  -----  \n",
      " 0   mage    196 non-null    int64  \n",
      " 1   meduc   193 non-null    float64\n",
      " 2   monpre  196 non-null    int64  \n",
      " 3   npvis   193 non-null    float64\n",
      " 4   fage    196 non-null    int64  \n",
      " 5   feduc   189 non-null    float64\n",
      " 6   omaps   196 non-null    int64  \n",
      " 7   fmaps   196 non-null    int64  \n",
      " 8   cigs    196 non-null    int64  \n",
      " 9   drink   196 non-null    int64  \n",
      " 10  male    196 non-null    int64  \n",
      " 11  mwhte   196 non-null    int64  \n",
      " 12  mblck   196 non-null    int64  \n",
      " 13  moth    196 non-null    int64  \n",
      " 14  fwhte   196 non-null    int64  \n",
      " 15  fblck   196 non-null    int64  \n",
      " 16  foth    196 non-null    int64  \n",
      " 17  bwght   196 non-null    int64  \n",
      "dtypes: float64(3), int64(15)\n",
      "memory usage: 27.7 KB\n",
      "\n",
      "None\n",
      "\n"
     ]
    }
   ],
   "source": [
    "# using .shape to check the number of ROWS and COLUMNS\n",
    "print(f\"\"\"\n",
    "Data shape: {birth.shape}\n",
    "\n",
    "{'*'*40}\n",
    "\"\"\")\n",
    "\n",
    "# checking information about each variable\n",
    "print(f\"\"\"\n",
    "{birth.info()}\n",
    "\"\"\")"
   ]
  },
  {
   "cell_type": "code",
   "execution_count": 11,
   "id": "051170ec",
   "metadata": {},
   "outputs": [
    {
     "name": "stdout",
     "output_type": "stream",
     "text": [
      "   mage  meduc  monpre  npvis  fage  feduc  omaps  fmaps  cigs  drink  male  mwhte  mblck  moth  fwhte  fblck  foth  bwght\n",
      "0    69    NaN       5    2.0    62    NaN      4      7    23      9     1      0      1     0      0      1     0    697\n",
      "1    68   12.0       3   10.0    61   11.0      4      6    25     11     1      1      0     0      1      0     0   1290\n",
      "2    71   12.0       3    6.0    46   12.0      2      7    21     12     1      0      1     0      0      1     0   1490\n",
      "3    59   16.0       1    8.0    48   16.0      7      8    21     10     0      0      0     1      0      0     1   1720\n",
      "4    48   12.0       4    6.0    39   12.0      2      9    17     13     0      1      0     0      1      0     0   1956\n"
     ]
    }
   ],
   "source": [
    "# copy original data \n",
    "df = pd.DataFrame(birth).copy()\n",
    "\n",
    "# check the result\n",
    "print(birth.head(n=5))"
   ]
  },
  {
   "cell_type": "markdown",
   "id": "02f17de4",
   "metadata": {},
   "source": [
    "# Imput missing value "
   ]
  },
  {
   "cell_type": "code",
   "execution_count": 12,
   "id": "d1cc9681",
   "metadata": {},
   "outputs": [
    {
     "name": "stdout",
     "output_type": "stream",
     "text": [
      "\n",
      "Columns including missing data\n",
      "mage      False\n",
      "meduc      True\n",
      "monpre    False\n",
      "npvis      True\n",
      "fage      False\n",
      "feduc      True\n",
      "omaps     False\n",
      "fmaps     False\n",
      "cigs      False\n",
      "drink     False\n",
      "male      False\n",
      "mwhte     False\n",
      "mblck     False\n",
      "moth      False\n",
      "fwhte     False\n",
      "fblck     False\n",
      "foth      False\n",
      "bwght     False\n",
      "dtype: bool\n",
      "\n",
      "****************************************\n",
      "\n",
      "\n",
      "Numbers of missing data\n",
      "mage      0\n",
      "meduc     3\n",
      "monpre    0\n",
      "npvis     3\n",
      "fage      0\n",
      "feduc     7\n",
      "omaps     0\n",
      "fmaps     0\n",
      "cigs      0\n",
      "drink     0\n",
      "male      0\n",
      "mwhte     0\n",
      "mblck     0\n",
      "moth      0\n",
      "fwhte     0\n",
      "fblck     0\n",
      "foth      0\n",
      "bwght     0\n",
      "dtype: int64\n",
      "\n"
     ]
    }
   ],
   "source": [
    "# ckeck columns to find missing value\n",
    "print(f\"\"\"\n",
    "Columns including missing data\n",
    "{df.isnull().any(axis = 0)}\n",
    "\n",
    "{'*'* 40}\n",
    "\"\"\")\n",
    "\n",
    "# check the number of missing values\n",
    "print(f\"\"\"\n",
    "Numbers of missing data\n",
    "{df.isnull().sum(axis = 0)}\n",
    "\"\"\")"
   ]
  },
  {
   "cell_type": "code",
   "execution_count": 13,
   "id": "f54785b1",
   "metadata": {
    "scrolled": true
   },
   "outputs": [
    {
     "name": "stdout",
     "output_type": "stream",
     "text": [
      "69     1\n",
      "68     1\n",
      "45     1\n",
      "59     1\n",
      "67     1\n",
      "54     1\n",
      "56     1\n",
      "57     1\n",
      "60     1\n",
      "62     1\n",
      "70     1\n",
      "64     2\n",
      "26     2\n",
      "52     2\n",
      "25     2\n",
      "46     2\n",
      "23     2\n",
      "27     2\n",
      "71     2\n",
      "58     2\n",
      "53     2\n",
      "24     3\n",
      "61     3\n",
      "51     4\n",
      "28     4\n",
      "50     4\n",
      "49     4\n",
      "43     5\n",
      "44     5\n",
      "35     5\n",
      "36     5\n",
      "47     6\n",
      "31     6\n",
      "37     7\n",
      "39     7\n",
      "48     7\n",
      "30     8\n",
      "32     8\n",
      "41     8\n",
      "34     9\n",
      "40     9\n",
      "29    10\n",
      "33    12\n",
      "38    12\n",
      "42    14\n",
      "Name: mage, dtype: int64\n",
      "8.0      1\n",
      "10.0     4\n",
      "15.0     9\n",
      "11.0    11\n",
      "13.0    15\n",
      "17.0    18\n",
      "14.0    28\n",
      "16.0    51\n",
      "12.0    56\n",
      "Name: meduc, dtype: int64\n",
      "6     2\n",
      "7     3\n",
      "8     3\n",
      "5     4\n",
      "4    13\n",
      "3    33\n",
      "1    45\n",
      "2    93\n",
      "Name: monpre, dtype: int64\n",
      "2.0      1\n",
      "35.0     1\n",
      "19.0     1\n",
      "25.0     1\n",
      "31.0     1\n",
      "18.0     1\n",
      "17.0     2\n",
      "30.0     2\n",
      "3.0      2\n",
      "20.0     3\n",
      "5.0      3\n",
      "16.0     5\n",
      "7.0      7\n",
      "6.0      7\n",
      "14.0     7\n",
      "15.0     9\n",
      "13.0     9\n",
      "9.0     12\n",
      "8.0     15\n",
      "11.0    15\n",
      "10.0    24\n",
      "12.0    65\n",
      "Name: npvis, dtype: int64\n",
      "27     1\n",
      "68     1\n",
      "66     1\n",
      "55     1\n",
      "59     1\n",
      "73     1\n",
      "67     1\n",
      "50     1\n",
      "24     1\n",
      "53     2\n",
      "54     2\n",
      "45     2\n",
      "25     2\n",
      "61     2\n",
      "51     2\n",
      "23     2\n",
      "47     3\n",
      "62     3\n",
      "28     3\n",
      "58     3\n",
      "31     4\n",
      "44     4\n",
      "49     4\n",
      "48     4\n",
      "29     5\n",
      "33     5\n",
      "41     5\n",
      "30     5\n",
      "40     5\n",
      "46     6\n",
      "42     6\n",
      "32     6\n",
      "26     7\n",
      "43     8\n",
      "34     8\n",
      "37    11\n",
      "35    15\n",
      "38    16\n",
      "36    17\n",
      "39    20\n",
      "Name: fage, dtype: int64\n",
      "7.0      1\n",
      "8.0      2\n",
      "1.0      2\n",
      "15.0     4\n",
      "10.0     4\n",
      "13.0     6\n",
      "11.0    10\n",
      "14.0    21\n",
      "17.0    26\n",
      "16.0    53\n",
      "12.0    60\n",
      "Name: feduc, dtype: int64\n",
      "5       2\n",
      "4       3\n",
      "6       3\n",
      "3       4\n",
      "10      4\n",
      "2       5\n",
      "7       7\n",
      "8      57\n",
      "9     111\n",
      "Name: omaps, dtype: int64\n",
      "5       1\n",
      "6       2\n",
      "7       5\n",
      "8       8\n",
      "10     21\n",
      "9     159\n",
      "Name: fmaps, dtype: int64\n",
      "24     1\n",
      "25     2\n",
      "22     2\n",
      "20     2\n",
      "23     3\n",
      "2      4\n",
      "3      4\n",
      "21     5\n",
      "7      5\n",
      "18     5\n",
      "19     6\n",
      "1      8\n",
      "4      8\n",
      "12     9\n",
      "0      9\n",
      "15     9\n",
      "6      9\n",
      "10    10\n",
      "9     11\n",
      "8     11\n",
      "5     11\n",
      "14    11\n",
      "16    11\n",
      "17    12\n",
      "11    13\n",
      "13    15\n",
      "Name: cigs, dtype: int64\n",
      "14     1\n",
      "11     2\n",
      "13     2\n",
      "12     3\n",
      "10    10\n",
      "3     10\n",
      "0     11\n",
      "9     12\n",
      "2     12\n",
      "1     12\n",
      "7     19\n",
      "8     19\n",
      "6     21\n",
      "5     27\n",
      "4     35\n",
      "Name: drink, dtype: int64\n",
      "0     88\n",
      "1    108\n",
      "Name: male, dtype: int64\n",
      "1     53\n",
      "0    143\n",
      "Name: mwhte, dtype: int64\n",
      "1     75\n",
      "0    121\n",
      "Name: mblck, dtype: int64\n",
      "1     68\n",
      "0    128\n",
      "Name: moth, dtype: int64\n",
      "1     68\n",
      "0    128\n",
      "Name: fwhte, dtype: int64\n",
      "1     67\n",
      "0    129\n",
      "Name: fblck, dtype: int64\n",
      "1     61\n",
      "0    135\n",
      "Name: foth, dtype: int64\n",
      "697     1\n",
      "3720    1\n",
      "3685    1\n",
      "3663    1\n",
      "3655    1\n",
      "3652    1\n",
      "3647    1\n",
      "3621    1\n",
      "3619    1\n",
      "3610    1\n",
      "3590    1\n",
      "3530    1\n",
      "3518    1\n",
      "3515    1\n",
      "3500    1\n",
      "3490    1\n",
      "3455    1\n",
      "3449    1\n",
      "3440    1\n",
      "3430    1\n",
      "3389    1\n",
      "3374    1\n",
      "3370    1\n",
      "4791    1\n",
      "3345    1\n",
      "3330    1\n",
      "3325    1\n",
      "3320    1\n",
      "3317    1\n",
      "3310    1\n",
      "3746    1\n",
      "3756    1\n",
      "3775    1\n",
      "3790    1\n",
      "4678    1\n",
      "4660    1\n",
      "4610    1\n",
      "4536    1\n",
      "4470    1\n",
      "4315    1\n",
      "4259    1\n",
      "4224    1\n",
      "4210    1\n",
      "4139    1\n",
      "4111    1\n",
      "4090    1\n",
      "4040    1\n",
      "3970    1\n",
      "3255    1\n",
      "3940    1\n",
      "3919    1\n",
      "3910    1\n",
      "3905    1\n",
      "3900    1\n",
      "3884    1\n",
      "3860    1\n",
      "3856    1\n",
      "3850    1\n",
      "3834    1\n",
      "3827    1\n",
      "3820    1\n",
      "3810    1\n",
      "3799    1\n",
      "3792    1\n",
      "3925    1\n",
      "3254    1\n",
      "3359    1\n",
      "3218    1\n",
      "2807    1\n",
      "3240    1\n",
      "2799    1\n",
      "2780    1\n",
      "2778    1\n",
      "2722    1\n",
      "2721    1\n",
      "2700    1\n",
      "2658    1\n",
      "2639    1\n",
      "2633    1\n",
      "2630    1\n",
      "2608    1\n",
      "2590    1\n",
      "2544    1\n",
      "2530    1\n",
      "2500    1\n",
      "1290    1\n",
      "1490    1\n",
      "1720    1\n",
      "1956    1\n",
      "1984    1\n",
      "2050    1\n",
      "2810    1\n",
      "2068    1\n",
      "2180    1\n",
      "2266    1\n",
      "2310    1\n",
      "2359    1\n",
      "2438    1\n",
      "2490    1\n",
      "2148    1\n",
      "2839    1\n",
      "4933    1\n",
      "2850    1\n",
      "3203    1\n",
      "3180    1\n",
      "3150    1\n",
      "3130    1\n",
      "3104    1\n",
      "3050    1\n",
      "3033    1\n",
      "3010    1\n",
      "2980    1\n",
      "2955    1\n",
      "2948    1\n",
      "2939    1\n",
      "2905    1\n",
      "2900    1\n",
      "2990    1\n",
      "2899    1\n",
      "2855    1\n",
      "2890    1\n",
      "3620    2\n",
      "3680    2\n",
      "3300    2\n",
      "3200    2\n",
      "3170    2\n",
      "3700    2\n",
      "3147    2\n",
      "3710    2\n",
      "3714    2\n",
      "3030    2\n",
      "2770    2\n",
      "3941    2\n",
      "3950    2\n",
      "2523    2\n",
      "2920    2\n",
      "2637    2\n",
      "2790    2\n",
      "3870    2\n",
      "3629    2\n",
      "3005    2\n",
      "2580    2\n",
      "3730    2\n",
      "3459    2\n",
      "3000    2\n",
      "3650    3\n",
      "4050    3\n",
      "3912    3\n",
      "3770    3\n",
      "3090    3\n",
      "3657    3\n",
      "3600    4\n",
      "3742    5\n",
      "Name: bwght, dtype: int64\n"
     ]
    }
   ],
   "source": [
    "# check all values to find invaluable data\n",
    "for columns in df:\n",
    "    print(df[f'{columns}'].value_counts(normalize = False,\n",
    "                                sort = True, ascending = True))"
   ]
  },
  {
   "cell_type": "code",
   "execution_count": 14,
   "id": "0b39c2e3",
   "metadata": {
    "scrolled": true
   },
   "outputs": [
    {
     "name": "stdout",
     "output_type": "stream",
     "text": [
      "\n",
      "Describe \n",
      "        meduc\n",
      "count  193.00\n",
      "mean    13.91\n",
      "std      2.06\n",
      "min      8.00\n",
      "25%     12.00\n",
      "50%     14.00\n",
      "75%     16.00\n",
      "max     17.00\n",
      "        \n",
      " Mode :    meduc\n",
      "0   12.0\n",
      "               \n",
      "        \n",
      "\n",
      "Describe \n",
      "        npvis\n",
      "count  193.00\n",
      "mean    11.60\n",
      "std      4.27\n",
      "min      2.00\n",
      "25%     10.00\n",
      "50%     12.00\n",
      "75%     12.00\n",
      "max     35.00\n",
      "        \n",
      " Mode :    npvis\n",
      "0   12.0\n",
      "               \n",
      "        \n",
      "\n",
      "Describe \n",
      "        feduc\n",
      "count  189.00\n",
      "mean    13.85\n",
      "std      2.63\n",
      "min      1.00\n",
      "25%     12.00\n",
      "50%     14.00\n",
      "75%     16.00\n",
      "max     17.00\n",
      "        \n",
      " Mode :    feduc\n",
      "0   12.0\n",
      "               \n",
      "        \n"
     ]
    }
   ],
   "source": [
    "# checking a information of missing column to decide what will use \n",
    "\n",
    "# groupping columns having missing value\n",
    "mis_col = df.loc[ : , ['meduc','npvis','feduc']]\n",
    "\n",
    "# loop to check mean, median, and mode\n",
    "for col in df:\n",
    "    if col in mis_col:\n",
    "        print(f\"\"\"\n",
    "Describe \n",
    "{df[{col}].describe().round(decimals=2)}\n",
    "        \n",
    " Mode : {df[{col}].mode()}\n",
    "               \n",
    "        \"\"\")\n",
    "   "
   ]
  },
  {
   "cell_type": "markdown",
   "id": "4f30fc58",
   "metadata": {},
   "source": [
    "Checking values of the missing columns to decide what is the better way to fill them"
   ]
  },
  {
   "cell_type": "code",
   "execution_count": 15,
   "id": "37cbb691",
   "metadata": {},
   "outputs": [
    {
     "name": "stdout",
     "output_type": "stream",
     "text": [
      "mage       False\n",
      "meduc       True\n",
      "monpre     False\n",
      "npvis       True\n",
      "fage       False\n",
      "feduc       True\n",
      "omaps      False\n",
      "fmaps      False\n",
      "cigs       False\n",
      "drink      False\n",
      "male       False\n",
      "mwhte      False\n",
      "mblck      False\n",
      "moth       False\n",
      "fwhte      False\n",
      "fblck      False\n",
      "foth       False\n",
      "bwght      False\n",
      "m_meduc    False\n",
      "m_npvis    False\n",
      "m_feduc    False\n",
      "dtype: bool\n"
     ]
    }
   ],
   "source": [
    "# developing a loop to automatically flag missing values\n",
    "for col in df:\n",
    "\n",
    "    if df[col].isnull().astype(int).sum() > 0:\n",
    "        df['m_'+col] = df[col].isnull().astype(int)\n",
    "        \n",
    "# ckeck missing value\n",
    "print(df.isnull().any(axis = 0))"
   ]
  },
  {
   "cell_type": "code",
   "execution_count": 16,
   "id": "ae26243e",
   "metadata": {},
   "outputs": [
    {
     "name": "stdout",
     "output_type": "stream",
     "text": [
      "False\n"
     ]
    }
   ],
   "source": [
    "# imputing missing value \n",
    "# soft coding MEDIAN for meduc\n",
    "meduc_median = df['meduc'].median()\n",
    "\n",
    "\n",
    "# filling meduc NAs with MEDIAN\n",
    "df['meduc'].fillna(value = meduc_median,\n",
    "                         inplace = True)\n",
    "\n",
    "\n",
    "# checking to make sure NAs are filled in\n",
    "print(df['meduc'].isnull().any())"
   ]
  },
  {
   "cell_type": "code",
   "execution_count": 17,
   "id": "4220775b",
   "metadata": {},
   "outputs": [
    {
     "name": "stdout",
     "output_type": "stream",
     "text": [
      "False\n"
     ]
    }
   ],
   "source": [
    "# imputing missing value \n",
    "# soft coding MEDIAN for npvis\n",
    "npvis_median = df['npvis'].median()\n",
    "\n",
    "\n",
    "# filling npvis NAs with MEDIAN\n",
    "df['npvis'].fillna(value = npvis_median,\n",
    "                         inplace = True)\n",
    "\n",
    "\n",
    "# checking to make sure NAs are filled in\n",
    "print(df['npvis'].isnull().any())"
   ]
  },
  {
   "cell_type": "code",
   "execution_count": 18,
   "id": "df1145a2",
   "metadata": {},
   "outputs": [
    {
     "name": "stdout",
     "output_type": "stream",
     "text": [
      "False\n"
     ]
    }
   ],
   "source": [
    "# imputing missing value \n",
    "# soft coding MEDIAN for feduc\n",
    "feduc_median = df['feduc'].median()\n",
    "\n",
    "\n",
    "# filling feduc NAs with MEDIAN\n",
    "df['feduc'].fillna(value = feduc_median,\n",
    "                         inplace = True)\n",
    "\n",
    "\n",
    "# checking to make sure NAs are filled in\n",
    "print(df['feduc'].isnull().any())"
   ]
  },
  {
   "cell_type": "code",
   "execution_count": 19,
   "id": "616e4595",
   "metadata": {},
   "outputs": [
    {
     "name": "stdout",
     "output_type": "stream",
     "text": [
      "mage       False\n",
      "meduc      False\n",
      "monpre     False\n",
      "npvis      False\n",
      "fage       False\n",
      "feduc      False\n",
      "omaps      False\n",
      "fmaps      False\n",
      "cigs       False\n",
      "drink      False\n",
      "male       False\n",
      "mwhte      False\n",
      "mblck      False\n",
      "moth       False\n",
      "fwhte      False\n",
      "fblck      False\n",
      "foth       False\n",
      "bwght      False\n",
      "m_meduc    False\n",
      "m_npvis    False\n",
      "m_feduc    False\n",
      "dtype: bool\n"
     ]
    }
   ],
   "source": [
    "# ckeck missing value\n",
    "print(df.isnull().any(axis = 0))"
   ]
  },
  {
   "cell_type": "code",
   "execution_count": 20,
   "id": "0b964158",
   "metadata": {},
   "outputs": [
    {
     "data": {
      "text/plain": [
       "mage      0\n",
       "meduc     0\n",
       "monpre    0\n",
       "npvis     0\n",
       "fage      0\n",
       "feduc     0\n",
       "omaps     0\n",
       "fmaps     0\n",
       "cigs      0\n",
       "drink     0\n",
       "male      0\n",
       "mwhte     0\n",
       "mblck     0\n",
       "moth      0\n",
       "fwhte     0\n",
       "fblck     0\n",
       "foth      0\n",
       "bwght     0\n",
       "dtype: int64"
      ]
     },
     "execution_count": 20,
     "metadata": {},
     "output_type": "execute_result"
    }
   ],
   "source": [
    "# Saving the imputted data and making dataframe for regression\n",
    "df_im = pd.DataFrame(df).copy()\n",
    "df = df.iloc[ : , : 18]\n",
    "\n",
    "#checking missing value\n",
    "df.isnull().sum(axis = 0)"
   ]
  },
  {
   "cell_type": "code",
   "execution_count": 21,
   "id": "c89927c0",
   "metadata": {},
   "outputs": [
    {
     "data": {
      "text/html": [
       "<div>\n",
       "<style scoped>\n",
       "    .dataframe tbody tr th:only-of-type {\n",
       "        vertical-align: middle;\n",
       "    }\n",
       "\n",
       "    .dataframe tbody tr th {\n",
       "        vertical-align: top;\n",
       "    }\n",
       "\n",
       "    .dataframe thead th {\n",
       "        text-align: right;\n",
       "    }\n",
       "</style>\n",
       "<table border=\"1\" class=\"dataframe\">\n",
       "  <thead>\n",
       "    <tr style=\"text-align: right;\">\n",
       "      <th></th>\n",
       "      <th>mage</th>\n",
       "      <th>meduc</th>\n",
       "      <th>monpre</th>\n",
       "      <th>npvis</th>\n",
       "      <th>fage</th>\n",
       "      <th>feduc</th>\n",
       "      <th>omaps</th>\n",
       "      <th>fmaps</th>\n",
       "      <th>cigs</th>\n",
       "      <th>drink</th>\n",
       "      <th>male</th>\n",
       "      <th>mwhte</th>\n",
       "      <th>mblck</th>\n",
       "      <th>moth</th>\n",
       "      <th>fwhte</th>\n",
       "      <th>fblck</th>\n",
       "      <th>foth</th>\n",
       "      <th>bwght</th>\n",
       "    </tr>\n",
       "  </thead>\n",
       "  <tbody>\n",
       "    <tr>\n",
       "      <th>count</th>\n",
       "      <td>196.00</td>\n",
       "      <td>196.00</td>\n",
       "      <td>196.00</td>\n",
       "      <td>196.00</td>\n",
       "      <td>196.00</td>\n",
       "      <td>196.00</td>\n",
       "      <td>196.00</td>\n",
       "      <td>196.00</td>\n",
       "      <td>196.00</td>\n",
       "      <td>196.00</td>\n",
       "      <td>196.00</td>\n",
       "      <td>196.00</td>\n",
       "      <td>196.00</td>\n",
       "      <td>196.00</td>\n",
       "      <td>196.00</td>\n",
       "      <td>196.00</td>\n",
       "      <td>196.00</td>\n",
       "      <td>196.00</td>\n",
       "    </tr>\n",
       "    <tr>\n",
       "      <th>mean</th>\n",
       "      <td>40.15</td>\n",
       "      <td>13.91</td>\n",
       "      <td>2.34</td>\n",
       "      <td>11.61</td>\n",
       "      <td>39.29</td>\n",
       "      <td>13.85</td>\n",
       "      <td>8.19</td>\n",
       "      <td>8.96</td>\n",
       "      <td>10.93</td>\n",
       "      <td>5.40</td>\n",
       "      <td>0.55</td>\n",
       "      <td>0.27</td>\n",
       "      <td>0.38</td>\n",
       "      <td>0.35</td>\n",
       "      <td>0.35</td>\n",
       "      <td>0.34</td>\n",
       "      <td>0.31</td>\n",
       "      <td>3334.09</td>\n",
       "    </tr>\n",
       "    <tr>\n",
       "      <th>std</th>\n",
       "      <td>10.25</td>\n",
       "      <td>2.04</td>\n",
       "      <td>1.36</td>\n",
       "      <td>4.23</td>\n",
       "      <td>8.98</td>\n",
       "      <td>2.59</td>\n",
       "      <td>1.58</td>\n",
       "      <td>0.65</td>\n",
       "      <td>6.10</td>\n",
       "      <td>3.00</td>\n",
       "      <td>0.50</td>\n",
       "      <td>0.45</td>\n",
       "      <td>0.49</td>\n",
       "      <td>0.48</td>\n",
       "      <td>0.48</td>\n",
       "      <td>0.48</td>\n",
       "      <td>0.46</td>\n",
       "      <td>646.70</td>\n",
       "    </tr>\n",
       "    <tr>\n",
       "      <th>min</th>\n",
       "      <td>23.00</td>\n",
       "      <td>8.00</td>\n",
       "      <td>1.00</td>\n",
       "      <td>2.00</td>\n",
       "      <td>23.00</td>\n",
       "      <td>1.00</td>\n",
       "      <td>2.00</td>\n",
       "      <td>5.00</td>\n",
       "      <td>0.00</td>\n",
       "      <td>0.00</td>\n",
       "      <td>0.00</td>\n",
       "      <td>0.00</td>\n",
       "      <td>0.00</td>\n",
       "      <td>0.00</td>\n",
       "      <td>0.00</td>\n",
       "      <td>0.00</td>\n",
       "      <td>0.00</td>\n",
       "      <td>697.00</td>\n",
       "    </tr>\n",
       "    <tr>\n",
       "      <th>25%</th>\n",
       "      <td>33.00</td>\n",
       "      <td>12.00</td>\n",
       "      <td>2.00</td>\n",
       "      <td>10.00</td>\n",
       "      <td>34.75</td>\n",
       "      <td>12.00</td>\n",
       "      <td>8.00</td>\n",
       "      <td>9.00</td>\n",
       "      <td>6.00</td>\n",
       "      <td>4.00</td>\n",
       "      <td>0.00</td>\n",
       "      <td>0.00</td>\n",
       "      <td>0.00</td>\n",
       "      <td>0.00</td>\n",
       "      <td>0.00</td>\n",
       "      <td>0.00</td>\n",
       "      <td>0.00</td>\n",
       "      <td>2916.25</td>\n",
       "    </tr>\n",
       "    <tr>\n",
       "      <th>50%</th>\n",
       "      <td>39.00</td>\n",
       "      <td>14.00</td>\n",
       "      <td>2.00</td>\n",
       "      <td>12.00</td>\n",
       "      <td>38.00</td>\n",
       "      <td>14.00</td>\n",
       "      <td>9.00</td>\n",
       "      <td>9.00</td>\n",
       "      <td>11.00</td>\n",
       "      <td>5.00</td>\n",
       "      <td>1.00</td>\n",
       "      <td>0.00</td>\n",
       "      <td>0.00</td>\n",
       "      <td>0.00</td>\n",
       "      <td>0.00</td>\n",
       "      <td>0.00</td>\n",
       "      <td>0.00</td>\n",
       "      <td>3452.00</td>\n",
       "    </tr>\n",
       "    <tr>\n",
       "      <th>75%</th>\n",
       "      <td>46.00</td>\n",
       "      <td>16.00</td>\n",
       "      <td>3.00</td>\n",
       "      <td>12.00</td>\n",
       "      <td>43.00</td>\n",
       "      <td>16.00</td>\n",
       "      <td>9.00</td>\n",
       "      <td>9.00</td>\n",
       "      <td>15.25</td>\n",
       "      <td>7.25</td>\n",
       "      <td>1.00</td>\n",
       "      <td>1.00</td>\n",
       "      <td>1.00</td>\n",
       "      <td>1.00</td>\n",
       "      <td>1.00</td>\n",
       "      <td>1.00</td>\n",
       "      <td>1.00</td>\n",
       "      <td>3759.50</td>\n",
       "    </tr>\n",
       "    <tr>\n",
       "      <th>max</th>\n",
       "      <td>71.00</td>\n",
       "      <td>17.00</td>\n",
       "      <td>8.00</td>\n",
       "      <td>35.00</td>\n",
       "      <td>73.00</td>\n",
       "      <td>17.00</td>\n",
       "      <td>10.00</td>\n",
       "      <td>10.00</td>\n",
       "      <td>25.00</td>\n",
       "      <td>14.00</td>\n",
       "      <td>1.00</td>\n",
       "      <td>1.00</td>\n",
       "      <td>1.00</td>\n",
       "      <td>1.00</td>\n",
       "      <td>1.00</td>\n",
       "      <td>1.00</td>\n",
       "      <td>1.00</td>\n",
       "      <td>4933.00</td>\n",
       "    </tr>\n",
       "  </tbody>\n",
       "</table>\n",
       "</div>"
      ],
      "text/plain": [
       "         mage   meduc  monpre   npvis    fage   feduc   omaps   fmaps    cigs   drink    male   mwhte   mblck    moth   fwhte   fblck    foth    bwght\n",
       "count  196.00  196.00  196.00  196.00  196.00  196.00  196.00  196.00  196.00  196.00  196.00  196.00  196.00  196.00  196.00  196.00  196.00   196.00\n",
       "mean    40.15   13.91    2.34   11.61   39.29   13.85    8.19    8.96   10.93    5.40    0.55    0.27    0.38    0.35    0.35    0.34    0.31  3334.09\n",
       "std     10.25    2.04    1.36    4.23    8.98    2.59    1.58    0.65    6.10    3.00    0.50    0.45    0.49    0.48    0.48    0.48    0.46   646.70\n",
       "min     23.00    8.00    1.00    2.00   23.00    1.00    2.00    5.00    0.00    0.00    0.00    0.00    0.00    0.00    0.00    0.00    0.00   697.00\n",
       "25%     33.00   12.00    2.00   10.00   34.75   12.00    8.00    9.00    6.00    4.00    0.00    0.00    0.00    0.00    0.00    0.00    0.00  2916.25\n",
       "50%     39.00   14.00    2.00   12.00   38.00   14.00    9.00    9.00   11.00    5.00    1.00    0.00    0.00    0.00    0.00    0.00    0.00  3452.00\n",
       "75%     46.00   16.00    3.00   12.00   43.00   16.00    9.00    9.00   15.25    7.25    1.00    1.00    1.00    1.00    1.00    1.00    1.00  3759.50\n",
       "max     71.00   17.00    8.00   35.00   73.00   17.00   10.00   10.00   25.00   14.00    1.00    1.00    1.00    1.00    1.00    1.00    1.00  4933.00"
      ]
     },
     "execution_count": 21,
     "metadata": {},
     "output_type": "execute_result"
    }
   ],
   "source": [
    "# Checking data \n",
    "df.describe().round(decimals = 2)"
   ]
  },
  {
   "cell_type": "code",
   "execution_count": 22,
   "id": "18c360f6",
   "metadata": {},
   "outputs": [
    {
     "data": {
      "image/png": "[encoded data removed]",
      "text/plain": [
       "<Figure size 432x288 with 1 Axes>"
      ]
     },
     "metadata": {
      "needs_background": "light"
     },
     "output_type": "display_data"
    }
   ],
   "source": [
    "# developing a histogram using HISTPLOT\n",
    "sns.histplot(data   = df,\n",
    "          x      = 'bwght',\n",
    "          kde    = True)\n",
    "\n",
    "\n",
    "# title and axis labels\n",
    "plt.title(label   = \"Original Distribution of Birthweight\")\n",
    "plt.xlabel(xlabel = \"Birthweight\") # avoiding using dataset labels\n",
    "plt.ylabel(ylabel = \"Count\")\n",
    "\n",
    "# displaying the histogram\n",
    "plt.show()"
   ]
  },
  {
   "cell_type": "code",
   "execution_count": 23,
   "id": "b3206bf8",
   "metadata": {},
   "outputs": [],
   "source": [
    "# log transforming bwght and saving it to the dataset\n",
    "df['log_bwght'] = np.log(df['bwght'])"
   ]
  },
  {
   "cell_type": "code",
   "execution_count": 24,
   "id": "d960db34",
   "metadata": {},
   "outputs": [
    {
     "data": {
      "image/png": "[encoded data removed]",
      "text/plain": [
       "<Figure size 432x288 with 1 Axes>"
      ]
     },
     "metadata": {
      "needs_background": "light"
     },
     "output_type": "display_data"
    }
   ],
   "source": [
    "# developing a histogram using HISTPLOT\n",
    "sns.histplot(data   = df,\n",
    "          x      = 'log_bwght',\n",
    "          kde    = True)\n",
    "\n",
    "\n",
    "# title and axis labels\n",
    "plt.title(label   = \"Original Distribution of log Birthweight\")\n",
    "plt.xlabel(xlabel = \"log Birthweight\") # avoiding using dataset labels\n",
    "plt.ylabel(ylabel = \"Count\")\n",
    "\n",
    "# displaying the histogram\n",
    "plt.show()"
   ]
  },
  {
   "cell_type": "code",
   "execution_count": 17,
   "id": "fffbef0f",
   "metadata": {
    "scrolled": true
   },
   "outputs": [
    {
     "data": {
      "image/png": "[encoded data removed]",
      "text/plain": [
       "<Figure size 432x288 with 1 Axes>"
      ]
     },
     "metadata": {
      "needs_background": "light"
     },
     "output_type": "display_data"
    },
    {
     "data": {
      "image/png": "[encoded data removed]",
      "text/plain": [
       "<Figure size 432x288 with 1 Axes>"
      ]
     },
     "metadata": {
      "needs_background": "light"
     },
     "output_type": "display_data"
    },
    {
     "data": {
      "image/png": "[encoded data removed]",
      "text/plain": [
       "<Figure size 432x288 with 1 Axes>"
      ]
     },
     "metadata": {
      "needs_background": "light"
     },
     "output_type": "display_data"
    },
    {
     "data": {
      "image/png": "[encoded data removed]",
      "text/plain": [
       "<Figure size 432x288 with 1 Axes>"
      ]
     },
     "metadata": {
      "needs_background": "light"
     },
     "output_type": "display_data"
    },
    {
     "data": {
      "image/png": "[encoded data removed]",
      "text/plain": [
       "<Figure size 432x288 with 1 Axes>"
      ]
     },
     "metadata": {
      "needs_background": "light"
     },
     "output_type": "display_data"
    },
    {
     "data": {
      "image/png": "[encoded data removed]",
      "text/plain": [
       "<Figure size 432x288 with 1 Axes>"
      ]
     },
     "metadata": {
      "needs_background": "light"
     },
     "output_type": "display_data"
    },
    {
     "data": {
      "image/png": "[encoded data removed]",
      "text/plain": [
       "<Figure size 432x288 with 1 Axes>"
      ]
     },
     "metadata": {
      "needs_background": "light"
     },
     "output_type": "display_data"
    },
    {
     "data": {
      "image/png": "[encoded data removed]",
      "text/plain": [
       "<Figure size 432x288 with 1 Axes>"
      ]
     },
     "metadata": {
      "needs_background": "light"
     },
     "output_type": "display_data"
    },
    {
     "data": {
      "image/png": "[encoded data removed]",
      "text/plain": [
       "<Figure size 432x288 with 1 Axes>"
      ]
     },
     "metadata": {
      "needs_background": "light"
     },
     "output_type": "display_data"
    },
    {
     "data": {
      "image/png": "[encoded data removed]",
      "text/plain": [
       "<Figure size 432x288 with 1 Axes>"
      ]
     },
     "metadata": {
      "needs_background": "light"
     },
     "output_type": "display_data"
    },
    {
     "data": {
      "image/png": "[encoded data removed]",
      "text/plain": [
       "<Figure size 432x288 with 1 Axes>"
      ]
     },
     "metadata": {
      "needs_background": "light"
     },
     "output_type": "display_data"
    },
    {
     "data": {
      "image/png": "[encoded data removed]",
      "text/plain": [
       "<Figure size 432x288 with 1 Axes>"
      ]
     },
     "metadata": {
      "needs_background": "light"
     },
     "output_type": "display_data"
    },
    {
     "data": {
      "image/png": "[encoded data removed]",
      "text/plain": [
       "<Figure size 432x288 with 1 Axes>"
      ]
     },
     "metadata": {
      "needs_background": "light"
     },
     "output_type": "display_data"
    },
    {
     "data": {
      "image/png": "[encoded data removed]",
      "text/plain": [
       "<Figure size 432x288 with 1 Axes>"
      ]
     },
     "metadata": {
      "needs_background": "light"
     },
     "output_type": "display_data"
    },
    {
     "data": {
      "image/png": "[encoded data removed]",
      "text/plain": [
       "<Figure size 432x288 with 1 Axes>"
      ]
     },
     "metadata": {
      "needs_background": "light"
     },
     "output_type": "display_data"
    },
    {
     "data": {
      "image/png": "[encoded data removed]",
      "text/plain": [
       "<Figure size 432x288 with 1 Axes>"
      ]
     },
     "metadata": {
      "needs_background": "light"
     },
     "output_type": "display_data"
    },
    {
     "data": {
      "image/png": "[encoded data removed]",
      "text/plain": [
       "<Figure size 432x288 with 1 Axes>"
      ]
     },
     "metadata": {
      "needs_background": "light"
     },
     "output_type": "display_data"
    },
    {
     "data": {
      "image/png": "[encoded data removed]",
      "text/plain": [
       "<Figure size 432x288 with 1 Axes>"
      ]
     },
     "metadata": {
      "needs_background": "light"
     },
     "output_type": "display_data"
    },
    {
     "data": {
      "image/png": "[encoded data removed]",
      "text/plain": [
       "<Figure size 432x288 with 1 Axes>"
      ]
     },
     "metadata": {
      "needs_background": "light"
     },
     "output_type": "display_data"
    }
   ],
   "source": [
    "# checking skewness of the  X variables\n",
    "for column in df:\n",
    "    sns.histplot( data = df,\n",
    "                   x   = column,\n",
    "                   kde = True)\n",
    "\n",
    "    plt.title(label   = f\"Original Distribution of {column}\" )\n",
    "    plt.xlabel(xlabel = column) # avoiding using dataset labels\n",
    "    plt.ylabel(ylabel = \"Count\")\n",
    "    plt.show()"
   ]
  },
  {
   "cell_type": "markdown",
   "id": "08a599fd",
   "metadata": {},
   "source": [
    "# encoding continuous data"
   ]
  },
  {
   "cell_type": "markdown",
   "id": "34a4ba6c",
   "metadata": {},
   "source": [
    " groupping variable depending on data type\n",
    "CONTINUOUS\n",
    "bwght - (y)\n",
    "mage\n",
    "fage\n",
    "cigs\n",
    "drink\n",
    "\n",
    "INTERVAL/COUNT\n",
    "npvis\n",
    "meduc\n",
    "monpre\n",
    "feduc\n",
    "omaps\n",
    "fmaps\n",
    "\n",
    "\n",
    "CATEGORICAL/OTHER\n",
    "male\n",
    "mwhte\n",
    "mblck\n",
    "moth\n",
    "fwhte\n",
    "fblck\n",
    "foth"
   ]
  },
  {
   "cell_type": "code",
   "execution_count": 25,
   "id": "3e2f1d5a",
   "metadata": {},
   "outputs": [],
   "source": [
    "# listing continuous data\n",
    "continuous_data = ['mage','fage','cigs','drink','bwght']\n",
    "continuous_x = ['mage','fage','cigs','drink']"
   ]
  },
  {
   "cell_type": "code",
   "execution_count": 26,
   "id": "299538f5",
   "metadata": {},
   "outputs": [
    {
     "name": "stdout",
     "output_type": "stream",
     "text": [
      "mage\n",
      "meduc\n",
      "monpre\n",
      "npvis\n",
      "fage\n",
      "feduc\n",
      "omaps\n",
      "fmaps\n",
      "cigs\n",
      "drink\n",
      "male\n",
      "mwhte\n",
      "mblck\n",
      "moth\n",
      "fwhte\n",
      "fblck\n",
      "foth\n",
      "bwght\n",
      "log_bwght\n",
      "log_mage\n",
      "log_fage\n",
      "log_cigs\n",
      "log_drink\n"
     ]
    }
   ],
   "source": [
    "# log transforming skewed explanatory features\n",
    "for column in df :\n",
    "    \n",
    "    if column in continuous_x : \n",
    "        df[f'log_{column}'] = np.log(df[{column}])\n",
    "        \n",
    "        \n",
    "# check the result         \n",
    "for col in df:\n",
    "    print(col)\n",
    "        "
   ]
  },
  {
   "cell_type": "code",
   "execution_count": 27,
   "id": "616be77a",
   "metadata": {},
   "outputs": [],
   "source": [
    "# add log columns\n",
    "continuous_log_data =  continuous_data + ['log_mage','log_fage','log_drink','log_cigs']"
   ]
  },
  {
   "cell_type": "code",
   "execution_count": 28,
   "id": "e0d2b258",
   "metadata": {},
   "outputs": [
    {
     "name": "stdout",
     "output_type": "stream",
     "text": [
      "mage\n",
      "meduc\n",
      "monpre\n",
      "npvis\n",
      "fage\n",
      "feduc\n",
      "omaps\n",
      "fmaps\n",
      "cigs\n",
      "drink\n",
      "male\n",
      "mwhte\n",
      "mblck\n",
      "moth\n",
      "fwhte\n",
      "fblck\n",
      "foth\n",
      "bwght\n",
      "log_bwght\n",
      "log_mage\n",
      "log_fage\n",
      "log_cigs\n",
      "log_drink\n",
      "page\n",
      "log_page\n"
     ]
    }
   ],
   "source": [
    "# Making new x variable and logarithmic value\n",
    "# multiple mage and fage\n",
    "df['page'] = df['mage'] * df['fage']\n",
    "df['log_page'] = np.log(df['page'])\n",
    "\n",
    "new_variable = ['page','log_page']\n",
    "\n",
    "# add new variables \n",
    "continuous_log_data = continuous_log_data + new_variable\n",
    "\n",
    "# check the result\n",
    "for col in df:\n",
    "    print(col)\n"
   ]
  },
  {
   "cell_type": "code",
   "execution_count": 29,
   "id": "5e52b76e",
   "metadata": {},
   "outputs": [
    {
     "data": {
      "text/plain": [
       "bwght        1.00\n",
       "log_fage    -0.38\n",
       "fage        -0.40\n",
       "log_mage    -0.42\n",
       "log_cigs    -0.45\n",
       "log_page    -0.45\n",
       "mage        -0.46\n",
       "page        -0.50\n",
       "cigs        -0.57\n",
       "log_drink   -0.66\n",
       "drink       -0.74\n",
       "Name: bwght, dtype: float64"
      ]
     },
     "execution_count": 29,
     "metadata": {},
     "output_type": "execute_result"
    }
   ],
   "source": [
    "# developing a correlation matrix based on continuous log data\n",
    "birth_cor = df[continuous_log_data].corr(method = 'pearson')\n",
    "\n",
    "\n",
    "# filtering the results to only show correlations with bwght\n",
    "birth_cor.loc[ : ,'bwght'].round(decimals = 2).sort_values(ascending = False)"
   ]
  },
  {
   "cell_type": "code",
   "execution_count": 30,
   "id": "02f0df72",
   "metadata": {
    "scrolled": true
   },
   "outputs": [
    {
     "data": {
      "image/png": "[encoded data removed]",
      "text/plain": [
       "<Figure size 720x576 with 1 Axes>"
      ]
     },
     "metadata": {
      "needs_background": "light"
     },
     "output_type": "display_data"
    },
    {
     "data": {
      "image/png": "[encoded data removed]",
      "text/plain": [
       "<Figure size 432x288 with 1 Axes>"
      ]
     },
     "metadata": {
      "needs_background": "light"
     },
     "output_type": "display_data"
    },
    {
     "data": {
      "image/png": "[encoded data removed]",
      "text/plain": [
       "<Figure size 432x288 with 1 Axes>"
      ]
     },
     "metadata": {
      "needs_background": "light"
     },
     "output_type": "display_data"
    },
    {
     "data": {
      "image/png": "[encoded data removed]",
      "text/plain": [
       "<Figure size 432x288 with 1 Axes>"
      ]
     },
     "metadata": {
      "needs_background": "light"
     },
     "output_type": "display_data"
    },
    {
     "data": {
      "image/png": "[encoded data removed]",
      "text/plain": [
       "<Figure size 432x288 with 1 Axes>"
      ]
     },
     "metadata": {
      "needs_background": "light"
     },
     "output_type": "display_data"
    },
    {
     "data": {
      "image/png": "[encoded data removed]",
      "text/plain": [
       "<Figure size 432x288 with 1 Axes>"
      ]
     },
     "metadata": {
      "needs_background": "light"
     },
     "output_type": "display_data"
    },
    {
     "data": {
      "image/png": "[encoded data removed]",
      "text/plain": [
       "<Figure size 432x288 with 1 Axes>"
      ]
     },
     "metadata": {
      "needs_background": "light"
     },
     "output_type": "display_data"
    },
    {
     "data": {
      "image/png": "[encoded data removed]",
      "text/plain": [
       "<Figure size 432x288 with 1 Axes>"
      ]
     },
     "metadata": {
      "needs_background": "light"
     },
     "output_type": "display_data"
    },
    {
     "data": {
      "image/png": "[encoded data removed]",
      "text/plain": [
       "<Figure size 432x288 with 1 Axes>"
      ]
     },
     "metadata": {
      "needs_background": "light"
     },
     "output_type": "display_data"
    },
    {
     "data": {
      "image/png": "[encoded data removed]",
      "text/plain": [
       "<Figure size 432x288 with 1 Axes>"
      ]
     },
     "metadata": {
      "needs_background": "light"
     },
     "output_type": "display_data"
    },
    {
     "data": {
      "image/png": "[encoded data removed]",
      "text/plain": [
       "<Figure size 432x288 with 1 Axes>"
      ]
     },
     "metadata": {
      "needs_background": "light"
     },
     "output_type": "display_data"
    }
   ],
   "source": [
    "# setting figure size\n",
    "fig, ax = plt.subplots(figsize = (10, 8))\n",
    "\n",
    "# making scatterplot to check a patten \n",
    "for col in df:\n",
    "    if col in continuous_log_data:\n",
    "        sns.scatterplot(x = df[f'{col}'],\n",
    "                        y = df['bwght'],\n",
    "                        color = 'b')\n",
    "        plt.xlabel(xlabel = f'{col}')\n",
    "        plt.ylabel(ylabel = 'bwght')\n",
    "        plt.tight_layout()\n",
    "        plt.show()"
   ]
  },
  {
   "cell_type": "markdown",
   "id": "20b99a8a",
   "metadata": {},
   "source": [
    "# encoding categorical variable"
   ]
  },
  {
   "cell_type": "code",
   "execution_count": 31,
   "id": "a7518bdf",
   "metadata": {
    "scrolled": true
   },
   "outputs": [
    {
     "name": "stdout",
     "output_type": "stream",
     "text": [
      "\n",
      "male\n",
      "------\n",
      "1    108\n",
      "0     88\n",
      "Name: male, dtype: int64\n",
      "\n",
      "\n",
      "mwhte\n",
      "------\n",
      "0    143\n",
      "1     53\n",
      "Name: mwhte, dtype: int64\n",
      "\n",
      "\n",
      "mblck\n",
      "------\n",
      "0    121\n",
      "1     75\n",
      "Name: mblck, dtype: int64\n",
      "\n",
      "\n",
      "moth\n",
      "------\n",
      "0    128\n",
      "1     68\n",
      "Name: moth, dtype: int64\n",
      "\n",
      "\n",
      "fwhte\n",
      "------\n",
      "0    128\n",
      "1     68\n",
      "Name: fwhte, dtype: int64\n",
      "\n",
      "\n",
      "fblck\n",
      "------\n",
      "0    129\n",
      "1     67\n",
      "Name: fblck, dtype: int64\n",
      "\n",
      "\n",
      "foth\n",
      "------\n",
      "0    135\n",
      "1     61\n",
      "Name: foth, dtype: int64\n",
      "\n"
     ]
    }
   ],
   "source": [
    "#groupping categorical data\n",
    "categorical_data = ['male','mwhte','mblck','moth','fwhte','fblck','foth' ]\n",
    "\n",
    "# checking the value of each columns\n",
    "for col in df:\n",
    "    if col in categorical_data:\n",
    "        print(f\"\"\"\n",
    "{col}\n",
    "------\n",
    "{df[col].value_counts()}\n",
    "\"\"\")\n",
    "\n",
    "\n"
   ]
  },
  {
   "cell_type": "code",
   "execution_count": 32,
   "id": "689f309a",
   "metadata": {
    "scrolled": true
   },
   "outputs": [
    {
     "data": {
      "image/png": "[encoded data removed]",
      "text/plain": [
       "<Figure size 432x288 with 1 Axes>"
      ]
     },
     "metadata": {
      "needs_background": "light"
     },
     "output_type": "display_data"
    },
    {
     "data": {
      "image/png": "[encoded data removed]",
      "text/plain": [
       "<Figure size 432x288 with 1 Axes>"
      ]
     },
     "metadata": {
      "needs_background": "light"
     },
     "output_type": "display_data"
    },
    {
     "data": {
      "image/png": "[encoded data removed]",
      "text/plain": [
       "<Figure size 432x288 with 1 Axes>"
      ]
     },
     "metadata": {
      "needs_background": "light"
     },
     "output_type": "display_data"
    },
    {
     "data": {
      "image/png": "[encoded data removed]",
      "text/plain": [
       "<Figure size 432x288 with 1 Axes>"
      ]
     },
     "metadata": {
      "needs_background": "light"
     },
     "output_type": "display_data"
    },
    {
     "data": {
      "image/png": "[encoded data removed]",
      "text/plain": [
       "<Figure size 432x288 with 1 Axes>"
      ]
     },
     "metadata": {
      "needs_background": "light"
     },
     "output_type": "display_data"
    },
    {
     "data": {
      "image/png": "[encoded data removed]",
      "text/plain": [
       "<Figure size 432x288 with 1 Axes>"
      ]
     },
     "metadata": {
      "needs_background": "light"
     },
     "output_type": "display_data"
    },
    {
     "data": {
      "image/png": "[encoded data removed]",
      "text/plain": [
       "<Figure size 432x288 with 1 Axes>"
      ]
     },
     "metadata": {
      "needs_background": "light"
     },
     "output_type": "display_data"
    }
   ],
   "source": [
    "# developing a boxplot to analyze through average and range\n",
    "for col in df:\n",
    "    \n",
    "    if col in categorical_data:\n",
    "        sns.boxplot(x    =  f'{col}',\n",
    "                    y    = 'bwght',\n",
    "                    data = df)\n",
    "\n",
    "        # titles and axis labels\n",
    "        plt.title(label   = f'Boxplot with {col}')\n",
    "        plt.xlabel(xlabel = {col})\n",
    "        plt.ylabel(ylabel = 'Birth Weight')\n",
    "\n",
    "\n",
    "        # displaying the plot\n",
    "        plt.show()"
   ]
  },
  {
   "cell_type": "markdown",
   "id": "468e780e",
   "metadata": {},
   "source": [
    "# encoding interval variable"
   ]
  },
  {
   "cell_type": "code",
   "execution_count": 33,
   "id": "4ef1a0e9",
   "metadata": {},
   "outputs": [],
   "source": [
    "# groupping inretval variables\n",
    "interval_data = [ 'npvis','meduc','monpre','feduc','omaps','fmaps']\n",
    "\n",
    "# add new interval variables\n",
    "df['pedu'] = df['meduc'] + df['feduc']\n",
    "\n",
    "\n",
    "new_variable_int = ['pedu']\n",
    "\n",
    "# append new interval variables to interval dataset\n",
    "interval_data = interval_data + new_variable_int"
   ]
  },
  {
   "cell_type": "code",
   "execution_count": 34,
   "id": "ffa7f383",
   "metadata": {},
   "outputs": [
    {
     "name": "stdout",
     "output_type": "stream",
     "text": [
      "mage\n",
      "meduc\n",
      "monpre\n",
      "npvis\n",
      "fage\n",
      "feduc\n",
      "omaps\n",
      "fmaps\n",
      "cigs\n",
      "drink\n",
      "male\n",
      "mwhte\n",
      "mblck\n",
      "moth\n",
      "fwhte\n",
      "fblck\n",
      "foth\n",
      "bwght\n",
      "log_bwght\n",
      "log_mage\n",
      "log_fage\n",
      "log_cigs\n",
      "log_drink\n",
      "page\n",
      "log_page\n",
      "pedu\n",
      "log_meduc\n",
      "log_monpre\n",
      "log_npvis\n",
      "log_feduc\n",
      "log_omaps\n",
      "log_fmaps\n",
      "log_pedu\n"
     ]
    }
   ],
   "source": [
    "# log transforming skewed interval features\n",
    "for column in df :\n",
    "    \n",
    "    if column in interval_data : \n",
    "        df[f'log_{column}'] = np.log(df[{column}])\n",
    "\n",
    "# check the result        \n",
    "for col in df:\n",
    "    print(col)    "
   ]
  },
  {
   "cell_type": "markdown",
   "id": "446f6a12",
   "metadata": {},
   "source": [
    "# OLS model"
   ]
  },
  {
   "cell_type": "code",
   "execution_count": 35,
   "id": "9988a3e2",
   "metadata": {
    "cell_style": "split"
   },
   "outputs": [
    {
     "name": "stdout",
     "output_type": "stream",
     "text": [
      "bwght         1.00\n",
      "log_bwght     0.97\n",
      "log_fmaps     0.26\n",
      "log_omaps     0.26\n",
      "omaps         0.25\n",
      "fmaps         0.25\n",
      "log_feduc     0.16\n",
      "log_npvis     0.16\n",
      "log_pedu      0.14\n",
      "feduc         0.13\n",
      "pedu          0.13\n",
      "mblck         0.13\n",
      "fblck         0.12\n",
      "male          0.11\n",
      "meduc         0.09\n",
      "log_meduc     0.09\n",
      "npvis         0.06\n",
      "moth         -0.02\n",
      "fwhte        -0.04\n",
      "monpre       -0.05\n",
      "log_monpre   -0.06\n",
      "foth         -0.08\n",
      "mwhte        -0.11\n",
      "log_fage     -0.38\n",
      "fage         -0.40\n",
      "log_mage     -0.42\n",
      "log_page     -0.45\n",
      "log_cigs     -0.45\n",
      "mage         -0.46\n",
      "page         -0.50\n",
      "cigs         -0.57\n",
      "log_drink    -0.66\n",
      "drink        -0.74\n",
      "Name: bwght, dtype: float64\n"
     ]
    }
   ],
   "source": [
    "# creating a (Pearson) correlation matrix\n",
    "df_corr = df.corr().round(2)\n",
    "\n",
    "\n",
    "# printing (Pearson) correlations with bwght\n",
    "print(df_corr.loc['bwght'].sort_values(ascending = False))"
   ]
  },
  {
   "cell_type": "code",
   "execution_count": 36,
   "id": "c2b015c9",
   "metadata": {
    "cell_style": "split"
   },
   "outputs": [
    {
     "name": "stdout",
     "output_type": "stream",
     "text": [
      "log_bwght     1.00\n",
      "bwght         0.97\n",
      "log_fmaps     0.33\n",
      "log_omaps     0.32\n",
      "fmaps         0.32\n",
      "omaps         0.31\n",
      "log_npvis     0.24\n",
      "log_feduc     0.16\n",
      "log_pedu      0.14\n",
      "feduc         0.13\n",
      "pedu          0.13\n",
      "npvis         0.11\n",
      "log_meduc     0.09\n",
      "mblck         0.09\n",
      "fblck         0.09\n",
      "meduc         0.09\n",
      "male          0.08\n",
      "moth          0.00\n",
      "foth         -0.04\n",
      "fwhte        -0.04\n",
      "log_monpre   -0.09\n",
      "monpre       -0.09\n",
      "mwhte        -0.11\n",
      "log_fage     -0.39\n",
      "fage         -0.41\n",
      "log_cigs     -0.42\n",
      "log_mage     -0.44\n",
      "log_page     -0.48\n",
      "mage         -0.50\n",
      "page         -0.54\n",
      "cigs         -0.55\n",
      "log_drink    -0.59\n",
      "drink        -0.70\n",
      "Name: log_bwght, dtype: float64\n"
     ]
    }
   ],
   "source": [
    "# creating a (Pearson) correlation matrix\n",
    "df_corr = df.corr().round(2)\n",
    "\n",
    "\n",
    "# printing (Pearson) correlations with log_bwght\n",
    "print(df_corr.loc['log_bwght'].sort_values(ascending = False))\n"
   ]
  },
  {
   "cell_type": "code",
   "execution_count": 37,
   "id": "4dbfdc97",
   "metadata": {},
   "outputs": [
    {
     "name": "stdout",
     "output_type": "stream",
     "text": [
      "mage + \n",
      "meduc + \n",
      "monpre + \n",
      "npvis + \n",
      "fage + \n",
      "feduc + \n",
      "omaps + \n",
      "fmaps + \n",
      "cigs + \n",
      "drink + \n",
      "male + \n",
      "mwhte + \n",
      "mblck + \n",
      "moth + \n",
      "fwhte + \n",
      "fblck + \n",
      "foth + \n",
      "log_mage + \n",
      "log_fage + \n",
      "page + \n",
      "log_page + \n",
      "pedu + \n",
      "log_meduc + \n",
      "log_monpre + \n",
      "log_npvis + \n",
      "log_feduc + \n",
      "log_omaps + \n",
      "log_fmaps + \n",
      "log_pedu + \n"
     ]
    }
   ],
   "source": [
    "# making a copy of df\n",
    "x_variable = df.copy()\n",
    "\n",
    "\n",
    "# dropping bwght from the explanatory variable set\n",
    "# log_cig and log_drink remove to aviod error\n",
    "x_variable = x_variable.drop(['bwght', 'log_bwght',\n",
    "                              'log_cigs','log_drink'], axis = 1)\n",
    "\n",
    "\n",
    "# formatting each explanatory variable for statsmodels\n",
    "for val in x_variable:\n",
    "    print(f\"{val} + \")"
   ]
  },
  {
   "cell_type": "code",
   "execution_count": 38,
   "id": "8edfa4a5",
   "metadata": {
    "scrolled": false
   },
   "outputs": [
    {
     "name": "stdout",
     "output_type": "stream",
     "text": [
      "                            OLS Regression Results                            \n",
      "==============================================================================\n",
      "Dep. Variable:                  bwght   R-squared:                       0.725\n",
      "Model:                            OLS   Adj. R-squared:                  0.718\n",
      "Method:                 Least Squares   F-statistic:                     100.3\n",
      "Date:                Wed, 24 Nov 2021   Prob (F-statistic):           2.27e-51\n",
      "Time:                        00:38:15   Log-Likelihood:                -1419.5\n",
      "No. Observations:                 196   AIC:                             2851.\n",
      "Df Residuals:                     190   BIC:                             2871.\n",
      "Df Model:                           5                                         \n",
      "Covariance Type:            nonrobust                                         \n",
      "==============================================================================\n",
      "                 coef    std err          t      P>|t|      [0.025      0.975]\n",
      "------------------------------------------------------------------------------\n",
      "Intercept  -3272.9946   2418.283     -1.353      0.178   -8043.125    1497.136\n",
      "mage         -47.0437     10.769     -4.368      0.000     -68.287     -25.801\n",
      "fage         -41.0262     10.961     -3.743      0.000     -62.648     -19.405\n",
      "cigs         -36.0523      4.329     -8.328      0.000     -44.591     -27.514\n",
      "drink       -112.9391      9.295    -12.151      0.000    -131.274     -94.605\n",
      "log_page    1520.1848    442.626      3.434      0.001     647.092    2393.277\n",
      "==============================================================================\n",
      "Omnibus:                        3.680   Durbin-Watson:                   1.291\n",
      "Prob(Omnibus):                  0.159   Jarque-Bera (JB):                4.317\n",
      "Skew:                           0.066   Prob(JB):                        0.115\n",
      "Kurtosis:                       3.715   Cond. No.                     5.93e+03\n",
      "==============================================================================\n",
      "\n",
      "Notes:\n",
      "[1] Standard Errors assume that the covariance matrix of the errors is correctly specified.\n",
      "[2] The condition number is large, 5.93e+03. This might indicate that there are\n",
      "strong multicollinearity or other numerical problems.\n"
     ]
    }
   ],
   "source": [
    "# Step 1: INSTANTIATE a model object\n",
    "lm_best = smf.ols(formula = \"\"\"bwght ~ mage + \n",
    "                                       fage + \n",
    "                                       cigs + \n",
    "                                       drink +\n",
    "                                       log_page \"\"\",\n",
    "                                       data = df)\n",
    "\n",
    "\n",
    "# Step 2: FIT the data into the model object\n",
    "results = lm_best.fit()\n",
    "\n",
    "\n",
    "# Step 3: analyze the SUMMARY output\n",
    "print(results.summary())"
   ]
  },
  {
   "cell_type": "code",
   "execution_count": 39,
   "id": "ef285008",
   "metadata": {},
   "outputs": [
    {
     "name": "stdout",
     "output_type": "stream",
     "text": [
      "\n",
      "Training Data\n",
      "Full\n",
      "-------------\n",
      "X-side: (147, 29)\n",
      "y-side: (147,)\n",
      "\n",
      "\n",
      "Testing Data\n",
      "------------\n",
      "X-side: (49, 29)\n",
      "y-side: (49,)\n",
      "\n",
      "\n",
      "\n",
      "OLS\n",
      "-------------\n",
      "X-side: (147, 5)\n",
      "y-side: (147,)\n",
      "\n",
      "\n",
      "Testing Data\n",
      "------------\n",
      "X-side: (49, 5)\n",
      "y-side: (49,)\n",
      "\n"
     ]
    }
   ],
   "source": [
    "# setting target and x_variable \n",
    "target = df.loc[ : , 'bwght']\n",
    "x_OLS = df.loc[ : , ['mage' ,'fage','cigs','drink','log_page' ] ]\n",
    "\n",
    "\n",
    "# Split into training and test set\n",
    "# FULL X-dataset (normal Y)\n",
    "x_train_FULL, x_test_FULL, y_train_FULL, y_test_FULL = train_test_split(\n",
    "            x_variable,     # x-variables\n",
    "            target,   # y-variable\n",
    "            test_size = 0.25,\n",
    "            random_state = 219)\n",
    "\n",
    "# OLS dataset\n",
    "x_train_OLS, x_test_OLS, y_train_OLS, y_test_OLS = train_test_split(x_OLS, target, \n",
    "                                                    test_size = 0.25, \n",
    "                                                    random_state=219)\n",
    "\n",
    "# checking the shapes of the datasets\n",
    "print(f\"\"\"\n",
    "Training Data\n",
    "Full\n",
    "-------------\n",
    "X-side: {x_train_FULL.shape}\n",
    "y-side: {y_train_FULL.shape}\n",
    "\n",
    "\n",
    "Testing Data\n",
    "------------\n",
    "X-side: {x_test_FULL.shape}\n",
    "y-side: {y_test_FULL.shape}\n",
    "\n",
    "\n",
    "\n",
    "OLS\n",
    "-------------\n",
    "X-side: {x_train_OLS.shape}\n",
    "y-side: {y_train_OLS.shape}\n",
    "\n",
    "\n",
    "Testing Data\n",
    "------------\n",
    "X-side: {x_test_OLS.shape}\n",
    "y-side: {y_test_OLS.shape}\n",
    "\"\"\")"
   ]
  },
  {
   "cell_type": "code",
   "execution_count": 40,
   "id": "24985ac0",
   "metadata": {},
   "outputs": [
    {
     "name": "stdout",
     "output_type": "stream",
     "text": [
      "OLS train Score :  0.7302\n",
      "OLS test Score  :  0.6817\n",
      "OLS Gap of Score:  0.0485\n"
     ]
    }
   ],
   "source": [
    "# Create the regressor: reg_all\n",
    "lr = LinearRegression()\n",
    "\n",
    "# Fit the regressor to the training data\n",
    "lr_fit = lr.fit(x_train_OLS,y_train_OLS)\n",
    "\n",
    "# Predict on the test data: y_pred\n",
    "lr_pred = lr_fit.predict(x_test_OLS)\n",
    "\n",
    "# print result\n",
    "print(\"OLS train Score : \",lr.score(x_train_OLS, y_train_OLS).round(4))\n",
    "print(\"OLS test Score  : \",lr.score(x_test_OLS, y_test_OLS).round(4))\n",
    "\n",
    "ols_train_score = lr.score(x_train_OLS, y_train_OLS).round(4)\n",
    "ols_test_score = lr.score(x_test_OLS, y_test_OLS).round(4)\n",
    "\n",
    "print(\"OLS Gap of Score: \",(lr.score(x_train_OLS, y_train_OLS) \n",
    "                              - lr.score(x_test_OLS, y_test_OLS)).round(4))\n",
    "\n",
    "ols_gap = abs(ols_train_score - ols_test_score).round(4)"
   ]
  },
  {
   "cell_type": "code",
   "execution_count": 41,
   "id": "b725cc87",
   "metadata": {},
   "outputs": [
    {
     "name": "stdout",
     "output_type": "stream",
     "text": [
      "('intercept', -3367.87)\n",
      "('mage', -51.29)\n",
      "('fage', -40.41)\n",
      "('cigs', -38.33)\n",
      "('drink', -103.97)\n",
      "('log_page', 1552.71)\n"
     ]
    }
   ],
   "source": [
    "# zipping each feature name to its coefficient\n",
    "lr_model_values = zip(x_OLS.columns,lr_fit.coef_.round(decimals = 2))\n",
    "\n",
    "\n",
    "# setting up a placeholder list to store model features\n",
    "lr_model_lst = [('intercept', lr_fit.intercept_.round(decimals = 2))]\n",
    "\n",
    "\n",
    "# printing out each feature-coefficient pair one by one\n",
    "for val in lr_model_values:\n",
    "    lr_model_lst.append(val)\n",
    "    \n",
    "\n",
    "# checking the results\n",
    "for pair in lr_model_lst:\n",
    "    print(pair)"
   ]
  },
  {
   "cell_type": "markdown",
   "id": "5d99713f",
   "metadata": {},
   "source": [
    "# Lasso model"
   ]
  },
  {
   "cell_type": "code",
   "execution_count": 43,
   "id": "8de4bab8",
   "metadata": {},
   "outputs": [
    {
     "name": "stdout",
     "output_type": "stream",
     "text": [
      "Lasso Training Score : 0.7483\n",
      "Lasso Testing Score  : 0.6133\n",
      "Lasso Train-Test Gap : 0.135\n"
     ]
    }
   ],
   "source": [
    "# Checking Lasso model by using all x variables\n",
    "\n",
    "# INSTANTIATING a losso model object\n",
    "lasso_model = sklearn.linear_model.Lasso(alpha = 1.0,\n",
    "                                         normalize = True) # default magitude\n",
    "\n",
    "\n",
    "# FITTING to the training data\n",
    "lasso_fit = lasso_model.fit(x_train_FULL, y_train_FULL)\n",
    "\n",
    "\n",
    "# PREDICTING on new data\n",
    "lasso_pred = lasso_fit.predict(x_test_FULL)\n",
    "\n",
    "\n",
    "# SCORING the results\n",
    "print('Lasso Training Score :', lasso_model.score(x_train_FULL, y_train_FULL).round(4))\n",
    "print('Lasso Testing Score  :', lasso_model.score(x_test_FULL, y_test_FULL).round(4))\n",
    "\n",
    "\n",
    "## the following code has been provided for you ##\n",
    "\n",
    "# saving scoring data for future use\n",
    "lasso_train_score = lasso_model.score(x_train_FULL, y_train_FULL).round(4) # using R-square\n",
    "lasso_test_score  = lasso_model.score(x_test_FULL, y_test_FULL).round(4)   # using R-square\n",
    "\n",
    "\n",
    "# displaying and saving the gap between training and testing\n",
    "print('Lasso Train-Test Gap :', abs(lasso_train_score - lasso_test_score).round(4))\n",
    "lasso_gap = abs(lasso_train_score - lasso_test_score).round(4)"
   ]
  },
  {
   "cell_type": "code",
   "execution_count": 44,
   "id": "3a47e3c1",
   "metadata": {},
   "outputs": [
    {
     "name": "stdout",
     "output_type": "stream",
     "text": [
      "('intercept', 2501.4)\n",
      "('mage', -7.34)\n",
      "('meduc', 0.0)\n",
      "('monpre', 0.0)\n",
      "('npvis', -5.25)\n",
      "('fage', 0.0)\n",
      "('feduc', 0.0)\n",
      "('omaps', 0.0)\n",
      "('fmaps', 75.47)\n",
      "('cigs', -36.82)\n",
      "('drink', -98.05)\n",
      "('male', 42.18)\n",
      "('mwhte', 0.0)\n",
      "('mblck', 0.0)\n",
      "('moth', -78.78)\n",
      "('fwhte', 0.0)\n",
      "('fblck', 0.0)\n",
      "('foth', -0.0)\n",
      "('log_mage', -0.0)\n",
      "('log_fage', 0.0)\n",
      "('page', -0.11)\n",
      "('log_page', 0.0)\n",
      "('pedu', 0.0)\n",
      "('log_meduc', 0.0)\n",
      "('log_monpre', 22.6)\n",
      "('log_npvis', 176.66)\n",
      "('log_feduc', 34.54)\n",
      "('log_omaps', 0.0)\n",
      "('log_fmaps', 0.0)\n",
      "('log_pedu', 340.14)\n"
     ]
    }
   ],
   "source": [
    "# zipping each feature name to its coefficient\n",
    "lasso_model_values = zip(x_variable.columns, lasso_fit.coef_.round(decimals = 2))\n",
    "\n",
    "\n",
    "# setting up a placeholder list to store model features\n",
    "lasso_model_lst = [('intercept', lasso_fit.intercept_.round(decimals = 2))]\n",
    "\n",
    "\n",
    "# printing out each feature-coefficient pair one by one\n",
    "for val in lasso_model_values:\n",
    "    lasso_model_lst.append(val)\n",
    "    \n",
    "\n",
    "# checking the results\n",
    "for pair in lasso_model_lst:\n",
    "    print(pair)"
   ]
  },
  {
   "cell_type": "code",
   "execution_count": 47,
   "id": "ade05464",
   "metadata": {
    "scrolled": true
   },
   "outputs": [
    {
     "name": "stdout",
     "output_type": "stream",
     "text": [
      "('intercept', 2501.4)\n",
      "('mage', -7.34)\n",
      "('npvis', -5.25)\n",
      "('fmaps', 75.47)\n",
      "('cigs', -36.82)\n",
      "('drink', -98.05)\n",
      "('male', 42.18)\n",
      "('moth', -78.78)\n",
      "('page', -0.11)\n",
      "('log_monpre', 22.6)\n",
      "('log_npvis', 176.66)\n",
      "('log_feduc', 34.54)\n",
      "('log_pedu', 340.14)\n"
     ]
    }
   ],
   "source": [
    "# dropping coefficients that are equal to zero\n",
    "\n",
    "# printing out each feature-coefficient pair one by one\n",
    "for feature, coefficient in lasso_model_lst:\n",
    "        \n",
    "        if coefficient == 0:\n",
    "            lasso_model_lst.remove((feature, coefficient))\n",
    "\n",
    "            \n",
    "# checking the results\n",
    "for pair in lasso_model_lst:\n",
    "    print(pair)"
   ]
  },
  {
   "cell_type": "code",
   "execution_count": 48,
   "id": "d850bda5",
   "metadata": {},
   "outputs": [],
   "source": [
    "# gruopping x variables for lasso model\n",
    "# remove npvis because I chose to use log_npvis that has higher cofficient\n",
    "x_lasoo = df.loc[ : , ['mage', 'meduc','fmaps','cigs','drink','male','moth','page',\n",
    "                      'log_monpre','log_npvis','log_pedu']  ]\n"
   ]
  },
  {
   "cell_type": "markdown",
   "id": "b01cf0b6",
   "metadata": {},
   "source": [
    "The way to choose x variables \n",
    " 1. groupping the variables\n",
    " age \n",
    " ('mage', -7.34)\n",
    " ('page', -0.11)\n",
    " \n",
    " habit\n",
    "('cigs', -36.82)\n",
    "('drink', -98.05)\n",
    "\n",
    "education\n",
    "('log_feduc', 34.54)\n",
    "('log_pedu', 340.14)\n",
    "\n",
    "hospital\n",
    "('npvis', -5.25)\n",
    "('log_npvis', 176.66)\n",
    "('log_monpre', 22.6)\n",
    "\n",
    "baby\n",
    "('male', 42.18)\n",
    "\n",
    "test result\n",
    "('fmaps', 75.47)\n",
    "\n",
    "race\n",
    "('moth', -78.78)\n",
    "\n",
    "2. chose one variable to minimaize corrlationship between x variables\n",
    " (excpet habit)\n",
    " \n",
    " 3. testing the result\n"
   ]
  },
  {
   "cell_type": "code",
   "execution_count": 49,
   "id": "1dea2ed4",
   "metadata": {},
   "outputs": [],
   "source": [
    "# define final x variables for lasso model\n",
    "x_lasoo = df.loc[ : , ['mage', 'cigs','drink','male','moth' ]  ]\n"
   ]
  },
  {
   "cell_type": "code",
   "execution_count": 50,
   "id": "26940f7d",
   "metadata": {},
   "outputs": [
    {
     "name": "stdout",
     "output_type": "stream",
     "text": [
      "Lasso Training Score : 0.7135\n",
      "Lasso Testing Score  : 0.6431\n",
      "Lasso Train-Test Gap : 0.0704\n"
     ]
    }
   ],
   "source": [
    "# split lasso dataset\n",
    "x_train_la, x_test_la, y_train_la, y_test_la = train_test_split(x_lasoo, target, \n",
    "                                                    test_size = 0.25, \n",
    "                                                    random_state=219)\n",
    "\n",
    "# FITTING to the training data\n",
    "lasso_fit_la = lasso_model.fit(x_train_la, y_train_la)\n",
    "\n",
    "\n",
    "# PREDICTING on new data\n",
    "lasso_pred = lasso_fit.predict(x_test_la)\n",
    "\n",
    "\n",
    "# SCORING the results\n",
    "print('Lasso Training Score :', lasso_model.score(x_train_la, y_train_la).round(4))\n",
    "print('Lasso Testing Score  :', lasso_model.score(x_test_la, y_test_la).round(4))\n",
    "\n",
    "\n",
    "# saving scoring data for calculating gap\n",
    "lasso_train_score = lasso_model.score(x_train_la, y_train_la).round(4) \n",
    "lasso_test_score  = lasso_model.score(x_test_la, y_test_la).round(4)   \n",
    "\n",
    "\n",
    "# displaying and saving the gap between training and testing\n",
    "print('Lasso Train-Test Gap :', abs(lasso_train_score - lasso_test_score).round(4))\n",
    "lasso_gap = abs(lasso_train_score - lasso_test_score).round(4)"
   ]
  },
  {
   "cell_type": "markdown",
   "id": "c14a792f",
   "metadata": {},
   "source": [
    "# Bayesian Automatic Relevance Determination (ARD) model"
   ]
  },
  {
   "cell_type": "code",
   "execution_count": 51,
   "id": "dcd32a9d",
   "metadata": {},
   "outputs": [
    {
     "name": "stdout",
     "output_type": "stream",
     "text": [
      "Training Score: 0.7502\n",
      "Testing Score : 0.6398\n",
      "ARD Train-Test Gap : 0.1104\n"
     ]
    }
   ],
   "source": [
    "# Testing ARD model by using all x variables\n",
    "\n",
    "# INSTANTIATING a model object\n",
    "ard_model = sklearn.linear_model.ARDRegression(normalize = False)\n",
    "\n",
    "\n",
    "# FITTING the training data\n",
    "ard_fit = ard_model.fit(x_train_FULL, y_train_FULL)\n",
    "\n",
    "\n",
    "# PREDICTING on new data\n",
    "ard_pred = ard_model.predict(x_test_FULL)\n",
    "\n",
    "\n",
    "print('Training Score:', ard_model.score(x_train_FULL, y_train_FULL).round(4))\n",
    "print('Testing Score :', ard_model.score(x_test_FULL, y_test_FULL).round(4))\n",
    "\n",
    "\n",
    "# saving scoring data for future use\n",
    "ard_train_score = ard_model.score(x_train_FULL, y_train_FULL).round(4)\n",
    "ard_test_score  = ard_model.score(x_test_FULL, y_test_FULL).round(4)\n",
    "\n",
    "\n",
    "# displaying and saving the gap between training and testing\n",
    "print('ARD Train-Test Gap :', abs(ard_train_score - ard_test_score).round(4))\n",
    "ard_test_gap = abs(ard_train_score - ard_test_score).round(4)"
   ]
  },
  {
   "cell_type": "code",
   "execution_count": 52,
   "id": "0b7c34dc",
   "metadata": {},
   "outputs": [
    {
     "name": "stdout",
     "output_type": "stream",
     "text": [
      "('intercept', 1055.76)\n",
      "('mage', -0.00093)\n",
      "('meduc', 0.00065)\n",
      "('monpre', 0.00106)\n",
      "('npvis', -0.00035)\n",
      "('fage', 10.30332)\n",
      "('feduc', 0.00105)\n",
      "('omaps', 0.00031)\n",
      "('fmaps', 54.73156)\n",
      "('cigs', -39.03149)\n",
      "('drink', -98.52633)\n",
      "('male', 4.04776)\n",
      "('mwhte', 0.00102)\n",
      "('mblck', 5e-05)\n",
      "('moth', -66.17083)\n",
      "('fwhte', 0.00026)\n",
      "('fblck', 0.00011)\n",
      "('foth', -0.00053)\n",
      "('log_mage', 0.00026)\n",
      "('log_fage', 0.00113)\n",
      "('page', -0.43967)\n",
      "('log_page', 229.23806)\n",
      "('pedu', 0.00199)\n",
      "('log_meduc', 0.00043)\n",
      "('log_monpre', 0.00114)\n",
      "('log_npvis', 56.56795)\n",
      "('log_feduc', 0.00111)\n",
      "('log_omaps', 0.00049)\n",
      "('log_fmaps', 0.00101)\n",
      "('log_pedu', 390.23398)\n"
     ]
    }
   ],
   "source": [
    "# zipping each feature name to its coefficient\n",
    "ard_model_values = zip(x_variable.columns, ard_fit.coef_.round(decimals = 5))\n",
    "\n",
    "\n",
    "# setting up a placeholder list to store model features\n",
    "ard_model_lst = [('intercept', ard_fit.intercept_.round(decimals = 2))]\n",
    "\n",
    "\n",
    "# printing out each feature-coefficient pair one by one\n",
    "for val in ard_model_values:\n",
    "    ard_model_lst.append(val)\n",
    "    \n",
    "\n",
    "# checking the results\n",
    "for pair in ard_model_lst:\n",
    "    print(pair)"
   ]
  },
  {
   "cell_type": "code",
   "execution_count": 54,
   "id": "a1ff512f",
   "metadata": {},
   "outputs": [],
   "source": [
    "# x variables for ARD model\n",
    "x_ard = df.loc[ : ,['log_mage','meduc','monpre','log_npvis','log_feduc',\n",
    "                     'log_omaps','log_fmaps','fage','cigs', 'drink','male',\n",
    "                     'mwhte','mblck','moth','fwhte','fblck','foth','log_pedu']  ]\n"
   ]
  },
  {
   "cell_type": "code",
   "execution_count": 55,
   "id": "bbb7db17",
   "metadata": {},
   "outputs": [],
   "source": [
    "# Deciding final x variables for ARD model\n",
    "x_ard = df.loc[ : , [ 'cigs','drink','male','moth','fage'  ]]\n"
   ]
  },
  {
   "cell_type": "markdown",
   "id": "ed1c9d58",
   "metadata": {},
   "source": [
    "The way to choose x variables\n",
    " 1) groupping x variables \n",
    "   - age\n",
    "      'mage', -0.00093\n",
    "      'fage', 10.30332\n",
    "      'log_mage', 0.00026\n",
    "      'log_fage', 0.00113\n",
    "      'page', -0.43967\n",
    "      'log_page', 229.23806\n",
    "   \n",
    "   - edu\n",
    "      'meduc', 0.00065 \n",
    "      'feduc', 0.00105\n",
    "      'pedu', 0.00199\n",
    "      'log_meduc', 0.00043\n",
    "      'log_feduc', 0.00111\n",
    "      'log_pedu', 390.23398\n",
    "\n",
    "    - race \n",
    "     'mwhte', 0.00102\n",
    "     'mblck', 5e-05\n",
    "     'moth', -66.17083\n",
    "     'fwhte', 0.00026\n",
    "     'fblck', 0.00011\n",
    "     'foth', -0.00053    \n",
    "\n",
    "    - baby\n",
    "     'male', 4.04776\n",
    "     \n",
    "     - test result\n",
    "      'omaps', 0.00031\n",
    "      'fmaps', 54.73156\n",
    "      'log_omaps', 0.00049\n",
    "      'log_fmaps', 0.00101\n",
    "\n",
    "    - hospital\n",
    "      'monpre', 0.00106\n",
    "      'npvis', -0.00035\n",
    "      'log_monpre', 0.00114\n",
    "      'log_npvis', 56.56795\n",
    "\n",
    "    - habit\n",
    "       'cigs', -39.03149\n",
    "       'drink', -98.52633\n",
    "       \n",
    " 2) Chose one variable from each group.(except habit group)\n",
    " \n",
    " 3) Checked variables that has big difference between original and log values. "
   ]
  },
  {
   "cell_type": "code",
   "execution_count": 56,
   "id": "e34dff64",
   "metadata": {},
   "outputs": [
    {
     "name": "stdout",
     "output_type": "stream",
     "text": [
      "Training Score: 0.6756\n",
      "Testing Score : 0.7278\n",
      "ARD Train-Test Gap : 0.0522\n"
     ]
    }
   ],
   "source": [
    "# using ard x variable\n",
    "\n",
    "# Split ard dataset\n",
    "x_train_ard, x_test_ard, y_train_ard, y_test_ard = train_test_split(x_ard, target, \n",
    "                                                    test_size = 0.25, \n",
    "                                                    random_state=219)\n",
    "\n",
    "# INSTANTIATING a model object\n",
    "ard_model = sklearn.linear_model.ARDRegression(normalize = False)\n",
    "\n",
    "\n",
    "# FITTING the training data\n",
    "ard_fit = ard_model.fit(x_train_ard, y_train_ard)\n",
    "\n",
    "\n",
    "# PREDICTING on new data\n",
    "ard_pred = ard_model.predict(x_test_ard)\n",
    "\n",
    "\n",
    "print('Training Score:', ard_model.score(x_train_ard, y_train_ard).round(4))\n",
    "print('Testing Score :', ard_model.score(x_test_ard, y_test_ard).round(4))\n",
    "\n",
    "\n",
    "# saving scoring data for future use\n",
    "ard_train_score_ard = ard_model.score(x_train_ard, y_train_ard).round(4)\n",
    "ard_test_score_ard  = ard_model.score(x_test_ard, y_test_ard).round(4)\n",
    "\n",
    "\n",
    "# displaying and saving the gap between training and testing\n",
    "print('ARD Train-Test Gap :', abs(ard_train_score_ard - ard_test_score_ard).round(4))\n",
    "ard_test_gap_ard = abs(ard_train_score_ard - ard_test_score_ard).round(4)"
   ]
  },
  {
   "cell_type": "markdown",
   "id": "ee6dc6d2",
   "metadata": {},
   "source": [
    "#  k-Nearest Neighbors(KNN)"
   ]
  },
  {
   "cell_type": "code",
   "execution_count": 57,
   "id": "05471fe1",
   "metadata": {},
   "outputs": [
    {
     "data": {
      "text/html": [
       "<div>\n",
       "<style scoped>\n",
       "    .dataframe tbody tr th:only-of-type {\n",
       "        vertical-align: middle;\n",
       "    }\n",
       "\n",
       "    .dataframe tbody tr th {\n",
       "        vertical-align: top;\n",
       "    }\n",
       "\n",
       "    .dataframe thead th {\n",
       "        text-align: right;\n",
       "    }\n",
       "</style>\n",
       "<table border=\"1\" class=\"dataframe\">\n",
       "  <thead>\n",
       "    <tr style=\"text-align: right;\">\n",
       "      <th></th>\n",
       "      <th>0</th>\n",
       "      <th>1</th>\n",
       "      <th>2</th>\n",
       "      <th>3</th>\n",
       "      <th>4</th>\n",
       "      <th>5</th>\n",
       "      <th>6</th>\n",
       "      <th>7</th>\n",
       "      <th>8</th>\n",
       "      <th>9</th>\n",
       "      <th>10</th>\n",
       "      <th>11</th>\n",
       "      <th>12</th>\n",
       "      <th>13</th>\n",
       "      <th>14</th>\n",
       "      <th>15</th>\n",
       "      <th>16</th>\n",
       "      <th>17</th>\n",
       "      <th>18</th>\n",
       "      <th>19</th>\n",
       "      <th>20</th>\n",
       "      <th>21</th>\n",
       "      <th>22</th>\n",
       "      <th>23</th>\n",
       "      <th>24</th>\n",
       "      <th>25</th>\n",
       "      <th>26</th>\n",
       "      <th>27</th>\n",
       "      <th>28</th>\n",
       "    </tr>\n",
       "  </thead>\n",
       "  <tbody>\n",
       "    <tr>\n",
       "      <th>count</th>\n",
       "      <td>196.00</td>\n",
       "      <td>196.00</td>\n",
       "      <td>196.00</td>\n",
       "      <td>196.00</td>\n",
       "      <td>196.00</td>\n",
       "      <td>196.00</td>\n",
       "      <td>196.00</td>\n",
       "      <td>196.00</td>\n",
       "      <td>196.00</td>\n",
       "      <td>196.00</td>\n",
       "      <td>196.00</td>\n",
       "      <td>196.00</td>\n",
       "      <td>196.00</td>\n",
       "      <td>196.00</td>\n",
       "      <td>196.00</td>\n",
       "      <td>196.00</td>\n",
       "      <td>196.00</td>\n",
       "      <td>196.00</td>\n",
       "      <td>196.00</td>\n",
       "      <td>196.00</td>\n",
       "      <td>196.00</td>\n",
       "      <td>196.00</td>\n",
       "      <td>196.00</td>\n",
       "      <td>196.00</td>\n",
       "      <td>196.00</td>\n",
       "      <td>196.00</td>\n",
       "      <td>196.00</td>\n",
       "      <td>196.00</td>\n",
       "      <td>196.00</td>\n",
       "    </tr>\n",
       "    <tr>\n",
       "      <th>mean</th>\n",
       "      <td>-0.00</td>\n",
       "      <td>-0.00</td>\n",
       "      <td>-0.00</td>\n",
       "      <td>-0.00</td>\n",
       "      <td>0.00</td>\n",
       "      <td>-0.00</td>\n",
       "      <td>-0.00</td>\n",
       "      <td>0.00</td>\n",
       "      <td>-0.00</td>\n",
       "      <td>-0.00</td>\n",
       "      <td>0.00</td>\n",
       "      <td>-0.00</td>\n",
       "      <td>-0.00</td>\n",
       "      <td>0.00</td>\n",
       "      <td>0.00</td>\n",
       "      <td>0.00</td>\n",
       "      <td>-0.00</td>\n",
       "      <td>0.00</td>\n",
       "      <td>0.00</td>\n",
       "      <td>0.00</td>\n",
       "      <td>0.00</td>\n",
       "      <td>-0.00</td>\n",
       "      <td>-0.00</td>\n",
       "      <td>-0.00</td>\n",
       "      <td>0.00</td>\n",
       "      <td>-0.00</td>\n",
       "      <td>0.00</td>\n",
       "      <td>0.00</td>\n",
       "      <td>0.00</td>\n",
       "    </tr>\n",
       "    <tr>\n",
       "      <th>std</th>\n",
       "      <td>1.00</td>\n",
       "      <td>1.00</td>\n",
       "      <td>1.00</td>\n",
       "      <td>1.00</td>\n",
       "      <td>1.00</td>\n",
       "      <td>1.00</td>\n",
       "      <td>1.00</td>\n",
       "      <td>1.00</td>\n",
       "      <td>1.00</td>\n",
       "      <td>1.00</td>\n",
       "      <td>1.00</td>\n",
       "      <td>1.00</td>\n",
       "      <td>1.00</td>\n",
       "      <td>1.00</td>\n",
       "      <td>1.00</td>\n",
       "      <td>1.00</td>\n",
       "      <td>1.00</td>\n",
       "      <td>1.00</td>\n",
       "      <td>1.00</td>\n",
       "      <td>1.00</td>\n",
       "      <td>1.00</td>\n",
       "      <td>1.00</td>\n",
       "      <td>1.00</td>\n",
       "      <td>1.00</td>\n",
       "      <td>1.00</td>\n",
       "      <td>1.00</td>\n",
       "      <td>1.00</td>\n",
       "      <td>1.00</td>\n",
       "      <td>1.00</td>\n",
       "    </tr>\n",
       "    <tr>\n",
       "      <th>min</th>\n",
       "      <td>-1.68</td>\n",
       "      <td>-2.91</td>\n",
       "      <td>-0.99</td>\n",
       "      <td>-2.27</td>\n",
       "      <td>-1.82</td>\n",
       "      <td>-4.98</td>\n",
       "      <td>-3.94</td>\n",
       "      <td>-6.10</td>\n",
       "      <td>-1.80</td>\n",
       "      <td>-1.80</td>\n",
       "      <td>-1.11</td>\n",
       "      <td>-0.61</td>\n",
       "      <td>-0.79</td>\n",
       "      <td>-0.73</td>\n",
       "      <td>-0.73</td>\n",
       "      <td>-0.72</td>\n",
       "      <td>-0.67</td>\n",
       "      <td>-2.16</td>\n",
       "      <td>-2.37</td>\n",
       "      <td>-1.32</td>\n",
       "      <td>-2.17</td>\n",
       "      <td>-3.79</td>\n",
       "      <td>-3.62</td>\n",
       "      <td>-1.43</td>\n",
       "      <td>-4.84</td>\n",
       "      <td>-8.31</td>\n",
       "      <td>-4.62</td>\n",
       "      <td>-7.06</td>\n",
       "      <td>-5.09</td>\n",
       "    </tr>\n",
       "    <tr>\n",
       "      <th>25%</th>\n",
       "      <td>-0.70</td>\n",
       "      <td>-0.94</td>\n",
       "      <td>-0.25</td>\n",
       "      <td>-0.38</td>\n",
       "      <td>-0.51</td>\n",
       "      <td>-0.72</td>\n",
       "      <td>-0.12</td>\n",
       "      <td>0.05</td>\n",
       "      <td>-0.81</td>\n",
       "      <td>-0.47</td>\n",
       "      <td>-1.11</td>\n",
       "      <td>-0.61</td>\n",
       "      <td>-0.79</td>\n",
       "      <td>-0.73</td>\n",
       "      <td>-0.73</td>\n",
       "      <td>-0.72</td>\n",
       "      <td>-0.67</td>\n",
       "      <td>-0.68</td>\n",
       "      <td>-0.46</td>\n",
       "      <td>-0.63</td>\n",
       "      <td>-0.64</td>\n",
       "      <td>-0.91</td>\n",
       "      <td>-0.91</td>\n",
       "      <td>-0.05</td>\n",
       "      <td>-0.26</td>\n",
       "      <td>-0.36</td>\n",
       "      <td>0.03</td>\n",
       "      <td>0.09</td>\n",
       "      <td>-0.82</td>\n",
       "    </tr>\n",
       "    <tr>\n",
       "      <th>50%</th>\n",
       "      <td>-0.11</td>\n",
       "      <td>0.04</td>\n",
       "      <td>-0.25</td>\n",
       "      <td>0.09</td>\n",
       "      <td>-0.14</td>\n",
       "      <td>0.06</td>\n",
       "      <td>0.51</td>\n",
       "      <td>0.05</td>\n",
       "      <td>0.01</td>\n",
       "      <td>-0.13</td>\n",
       "      <td>0.90</td>\n",
       "      <td>-0.61</td>\n",
       "      <td>-0.79</td>\n",
       "      <td>-0.73</td>\n",
       "      <td>-0.73</td>\n",
       "      <td>-0.72</td>\n",
       "      <td>-0.67</td>\n",
       "      <td>0.00</td>\n",
       "      <td>-0.04</td>\n",
       "      <td>-0.32</td>\n",
       "      <td>-0.19</td>\n",
       "      <td>0.06</td>\n",
       "      <td>0.12</td>\n",
       "      <td>-0.05</td>\n",
       "      <td>0.26</td>\n",
       "      <td>0.13</td>\n",
       "      <td>0.42</td>\n",
       "      <td>0.09</td>\n",
       "      <td>0.13</td>\n",
       "    </tr>\n",
       "    <tr>\n",
       "      <th>75%</th>\n",
       "      <td>0.57</td>\n",
       "      <td>1.03</td>\n",
       "      <td>0.49</td>\n",
       "      <td>0.09</td>\n",
       "      <td>0.41</td>\n",
       "      <td>0.83</td>\n",
       "      <td>0.51</td>\n",
       "      <td>0.05</td>\n",
       "      <td>0.71</td>\n",
       "      <td>0.62</td>\n",
       "      <td>0.90</td>\n",
       "      <td>1.64</td>\n",
       "      <td>1.27</td>\n",
       "      <td>1.37</td>\n",
       "      <td>1.37</td>\n",
       "      <td>1.39</td>\n",
       "      <td>1.49</td>\n",
       "      <td>0.68</td>\n",
       "      <td>0.53</td>\n",
       "      <td>0.32</td>\n",
       "      <td>0.57</td>\n",
       "      <td>1.02</td>\n",
       "      <td>1.01</td>\n",
       "      <td>0.76</td>\n",
       "      <td>0.26</td>\n",
       "      <td>0.56</td>\n",
       "      <td>0.42</td>\n",
       "      <td>0.09</td>\n",
       "      <td>0.95</td>\n",
       "    </tr>\n",
       "    <tr>\n",
       "      <th>max</th>\n",
       "      <td>3.02</td>\n",
       "      <td>1.52</td>\n",
       "      <td>4.19</td>\n",
       "      <td>5.54</td>\n",
       "      <td>3.76</td>\n",
       "      <td>1.22</td>\n",
       "      <td>1.15</td>\n",
       "      <td>1.59</td>\n",
       "      <td>2.31</td>\n",
       "      <td>2.87</td>\n",
       "      <td>0.90</td>\n",
       "      <td>1.64</td>\n",
       "      <td>1.27</td>\n",
       "      <td>1.37</td>\n",
       "      <td>1.37</td>\n",
       "      <td>1.39</td>\n",
       "      <td>1.49</td>\n",
       "      <td>2.46</td>\n",
       "      <td>2.98</td>\n",
       "      <td>3.71</td>\n",
       "      <td>2.72</td>\n",
       "      <td>1.50</td>\n",
       "      <td>1.41</td>\n",
       "      <td>2.71</td>\n",
       "      <td>3.31</td>\n",
       "      <td>0.75</td>\n",
       "      <td>0.78</td>\n",
       "      <td>1.37</td>\n",
       "      <td>1.32</td>\n",
       "    </tr>\n",
       "  </tbody>\n",
       "</table>\n",
       "</div>"
      ],
      "text/plain": [
       "           0       1       2       3       4       5       6       7       8       9       10      11      12      13      14      15      16      17      18      19      20      21      22      23      24      25      26      27      28\n",
       "count  196.00  196.00  196.00  196.00  196.00  196.00  196.00  196.00  196.00  196.00  196.00  196.00  196.00  196.00  196.00  196.00  196.00  196.00  196.00  196.00  196.00  196.00  196.00  196.00  196.00  196.00  196.00  196.00  196.00\n",
       "mean    -0.00   -0.00   -0.00   -0.00    0.00   -0.00   -0.00    0.00   -0.00   -0.00    0.00   -0.00   -0.00    0.00    0.00    0.00   -0.00    0.00    0.00    0.00    0.00   -0.00   -0.00   -0.00    0.00   -0.00    0.00    0.00    0.00\n",
       "std      1.00    1.00    1.00    1.00    1.00    1.00    1.00    1.00    1.00    1.00    1.00    1.00    1.00    1.00    1.00    1.00    1.00    1.00    1.00    1.00    1.00    1.00    1.00    1.00    1.00    1.00    1.00    1.00    1.00\n",
       "min     -1.68   -2.91   -0.99   -2.27   -1.82   -4.98   -3.94   -6.10   -1.80   -1.80   -1.11   -0.61   -0.79   -0.73   -0.73   -0.72   -0.67   -2.16   -2.37   -1.32   -2.17   -3.79   -3.62   -1.43   -4.84   -8.31   -4.62   -7.06   -5.09\n",
       "25%     -0.70   -0.94   -0.25   -0.38   -0.51   -0.72   -0.12    0.05   -0.81   -0.47   -1.11   -0.61   -0.79   -0.73   -0.73   -0.72   -0.67   -0.68   -0.46   -0.63   -0.64   -0.91   -0.91   -0.05   -0.26   -0.36    0.03    0.09   -0.82\n",
       "50%     -0.11    0.04   -0.25    0.09   -0.14    0.06    0.51    0.05    0.01   -0.13    0.90   -0.61   -0.79   -0.73   -0.73   -0.72   -0.67    0.00   -0.04   -0.32   -0.19    0.06    0.12   -0.05    0.26    0.13    0.42    0.09    0.13\n",
       "75%      0.57    1.03    0.49    0.09    0.41    0.83    0.51    0.05    0.71    0.62    0.90    1.64    1.27    1.37    1.37    1.39    1.49    0.68    0.53    0.32    0.57    1.02    1.01    0.76    0.26    0.56    0.42    0.09    0.95\n",
       "max      3.02    1.52    4.19    5.54    3.76    1.22    1.15    1.59    2.31    2.87    0.90    1.64    1.27    1.37    1.37    1.39    1.49    2.46    2.98    3.71    2.72    1.50    1.41    2.71    3.31    0.75    0.78    1.37    1.32"
      ]
     },
     "execution_count": 57,
     "metadata": {},
     "output_type": "execute_result"
    }
   ],
   "source": [
    "# testing KNN model by using full dataset\n",
    "\n",
    "# INSTANTIATING a StandardScaler() object\n",
    "scaler = StandardScaler()\n",
    "\n",
    "\n",
    "# FITTING the scaler with housing_data\n",
    "scaler.fit(x_variable)\n",
    "\n",
    "\n",
    "# TRANSFORMING our data after fit\n",
    "x_scaled = scaler.transform(x_variable)\n",
    "\n",
    "\n",
    "# converting scaled data into a DataFrame\n",
    "x_scaled_df = pd.DataFrame(x_scaled)\n",
    "\n",
    "\n",
    "# checking the results\n",
    "x_scaled_df.describe().round(2)"
   ]
  },
  {
   "cell_type": "code",
   "execution_count": 58,
   "id": "bf3888bc",
   "metadata": {},
   "outputs": [
    {
     "name": "stdout",
     "output_type": "stream",
     "text": [
      "\n",
      "Dataset BEFORE Scaling\n",
      "----------------------\n",
      "mage             104.527593\n",
      "meduc              4.140436\n",
      "monpre             1.827025\n",
      "npvis             17.840561\n",
      "fage              80.277671\n",
      "feduc              6.656680\n",
      "omaps              2.472616\n",
      "fmaps              0.422194\n",
      "cigs              37.035714\n",
      "drink              8.964077\n",
      "male               0.247397\n",
      "mwhte              0.197288\n",
      "mblck              0.236230\n",
      "moth               0.226572\n",
      "fwhte              0.226572\n",
      "fblck              0.224984\n",
      "foth               0.214364\n",
      "log_mage           0.059339\n",
      "log_fage           0.046697\n",
      "page          579993.320153\n",
      "log_page           0.161626\n",
      "pedu              17.302062\n",
      "log_meduc          0.022405\n",
      "log_monpre         0.252097\n",
      "log_npvis          0.123468\n",
      "log_feduc          0.097629\n",
      "log_omaps          0.088968\n",
      "log_fmaps          0.006757\n",
      "log_pedu           0.026364\n",
      "dtype: float64\n",
      "\n",
      "\n",
      "Dataset AFTER Scaling\n",
      "----------------------\n",
      "mage          1.0\n",
      "meduc         1.0\n",
      "monpre        1.0\n",
      "npvis         1.0\n",
      "fage          1.0\n",
      "feduc         1.0\n",
      "omaps         1.0\n",
      "fmaps         1.0\n",
      "cigs          1.0\n",
      "drink         1.0\n",
      "male          1.0\n",
      "mwhte         1.0\n",
      "mblck         1.0\n",
      "moth          1.0\n",
      "fwhte         1.0\n",
      "fblck         1.0\n",
      "foth          1.0\n",
      "log_mage      1.0\n",
      "log_fage      1.0\n",
      "page          1.0\n",
      "log_page      1.0\n",
      "pedu          1.0\n",
      "log_meduc     1.0\n",
      "log_monpre    1.0\n",
      "log_npvis     1.0\n",
      "log_feduc     1.0\n",
      "log_omaps     1.0\n",
      "log_fmaps     1.0\n",
      "log_pedu      1.0\n",
      "dtype: float64\n",
      "\n"
     ]
    }
   ],
   "source": [
    "# adding labels to the scaled DataFrame\n",
    "x_scaled_df.columns = x_variable.columns\n",
    "\n",
    "#  Checking pre- and post-scaling of the data\n",
    "print(f\"\"\"\n",
    "Dataset BEFORE Scaling\n",
    "----------------------\n",
    "{np.var(x_variable)}\n",
    "\n",
    "\n",
    "Dataset AFTER Scaling\n",
    "----------------------\n",
    "{np.var(x_scaled_df)}\n",
    "\"\"\")"
   ]
  },
  {
   "cell_type": "code",
   "execution_count": 59,
   "id": "a8030a90",
   "metadata": {},
   "outputs": [
    {
     "data": {
      "image/png": "[encoded data removed]",
      "text/plain": [
       "<Figure size 1152x1152 with 1 Axes>"
      ]
     },
     "metadata": {
      "needs_background": "light"
     },
     "output_type": "display_data"
    }
   ],
   "source": [
    "# subsetting the original dataset\n",
    "df_knn = df.loc[ : , ['mage','feduc','fage','cigs','drink','mblck' ]]\n",
    "\n",
    "\n",
    "# correlation matrix\n",
    "df_corr = df_knn.corr().round(2)\n",
    "\n",
    "\n",
    "# setting figure size and plot window\n",
    "fig, ax = plt.subplots(figsize = (16, 16))\n",
    "plt.subplot(1, 2, 1)\n",
    "\n",
    "\n",
    "# heatmap of correlations\n",
    "sns.heatmap(df_corr,\n",
    "            cmap = 'coolwarm',\n",
    "            square = True,\n",
    "            annot = True,\n",
    "            cbar = False,\n",
    "            linecolor  = 'black', \n",
    "            linewidths = 0.5)\n",
    "\n",
    "\n",
    "\n",
    "# titling the plot and print\n",
    "plt.title(\"Correlations\")\n",
    "plt.show()"
   ]
  },
  {
   "cell_type": "code",
   "execution_count": 60,
   "id": "de266940",
   "metadata": {},
   "outputs": [
    {
     "data": {
      "image/png": "[encoded data removed]",
      "text/plain": [
       "<Figure size 864x576 with 1 Axes>"
      ]
     },
     "metadata": {
      "needs_background": "light"
     },
     "output_type": "display_data"
    },
    {
     "name": "stdout",
     "output_type": "stream",
     "text": [
      "The optimal number of neighbors is 28\n"
     ]
    }
   ],
   "source": [
    "# creating lists for training set accuracy and test set accuracy\n",
    "training_accuracy = []\n",
    "test_accuracy     = []\n",
    "\n",
    "\n",
    "# building a visualization of 1 to 50 neighbors\n",
    "neighbors_settings = range(1, 49)\n",
    "\n",
    "\n",
    "for n_neighbors in neighbors_settings:\n",
    "    # Building the model\n",
    "    clf = KNeighborsRegressor(n_neighbors = n_neighbors)\n",
    "    clf.fit(x_train_FULL, y_train_FULL)\n",
    "    \n",
    "    # Recording the training set accuracy\n",
    "    training_accuracy.append(clf.score(x_train_FULL, y_train_FULL))\n",
    "    \n",
    "    # Recording the generalization accuracy\n",
    "    test_accuracy.append(clf.score(x_test_FULL, y_test_FULL))\n",
    "\n",
    "\n",
    "# plotting the visualization\n",
    "fig, ax = plt.subplots(figsize=(12,8))\n",
    "plt.plot(neighbors_settings, training_accuracy, label = \"training accuracy\")\n",
    "plt.plot(neighbors_settings, test_accuracy, label = \"test accuracy\")\n",
    "plt.ylabel(\"Accuracy\")\n",
    "plt.xlabel(\"n_neighbors\")\n",
    "plt.legend()\n",
    "plt.show()\n",
    "\n",
    "# finding the optimal number of neighbors\n",
    "opt_neighbors = test_accuracy.index(max(test_accuracy)) + 1\n",
    "print(f\"\"\"The optimal number of neighbors is {opt_neighbors}\"\"\")"
   ]
  },
  {
   "cell_type": "code",
   "execution_count": 61,
   "id": "6aeee57f",
   "metadata": {},
   "outputs": [
    {
     "name": "stdout",
     "output_type": "stream",
     "text": [
      "KNN Training Score: 0.2811\n",
      "KNN Testing Score : 0.064\n",
      "KNN Train-Test Gap: 0.2171\n"
     ]
    }
   ],
   "source": [
    "# Full data\n",
    "# INSTANTIATING a KNN model object\n",
    "knn_reg = KNeighborsRegressor(algorithm = 'auto',\n",
    "                              n_neighbors = 28)\n",
    "\n",
    "\n",
    "# FITTING to the training data\n",
    "knn_fit = knn_reg.fit(x_train_FULL, y_train_FULL)\n",
    "\n",
    "\n",
    "# PREDICTING on new data\n",
    "knn_reg_pred = knn_fit.predict(x_test_FULL)\n",
    "\n",
    "\n",
    "# SCORING the results\n",
    "print('KNN Training Score:', knn_reg.score(x_train_FULL, y_train_FULL).round(4))\n",
    "print('KNN Testing Score :',  knn_reg.score(x_test_FULL, y_test_FULL).round(4))\n",
    "\n",
    "\n",
    "# saving scoring data for future use\n",
    "knn_reg_score_train = knn_reg.score(x_train_FULL, y_train_FULL).round(4)\n",
    "knn_reg_score_test  = knn_reg.score(x_test_FULL, y_test_FULL).round(4)\n",
    "\n",
    "\n",
    "# displaying and saving the gap between training and testing\n",
    "print('KNN Train-Test Gap:', abs(knn_reg_score_train - knn_reg_score_test).round(4))\n",
    "knn_reg_test_gap = abs(knn_reg_score_train - knn_reg_score_test).round(4)"
   ]
  },
  {
   "cell_type": "code",
   "execution_count": 62,
   "id": "91e33d95",
   "metadata": {},
   "outputs": [],
   "source": [
    "# choose x variables fot KNN model \n",
    "x_knn = df.loc[ : , [ 'mage','feduc','fage','cigs','drink','mblck'  ]]\n",
    "\n",
    "# Split KNN dataset\n",
    "x_train_knn, x_test_knn, y_train_knn, y_test_knn = train_test_split(x_knn, target, \n",
    "                                                    test_size = 0.25, \n",
    "                                                    random_state=219)"
   ]
  },
  {
   "cell_type": "code",
   "execution_count": 63,
   "id": "026732b7",
   "metadata": {},
   "outputs": [
    {
     "data": {
      "image/png": "[encoded data removed]",
      "text/plain": [
       "<Figure size 864x576 with 1 Axes>"
      ]
     },
     "metadata": {
      "needs_background": "light"
     },
     "output_type": "display_data"
    },
    {
     "name": "stdout",
     "output_type": "stream",
     "text": [
      "The optimal number of neighbors is 5\n"
     ]
    }
   ],
   "source": [
    "# creating lists for training set accuracy and test set accuracy\n",
    "training_accuracy_knn = []\n",
    "test_accuracy_knn     = []\n",
    "\n",
    "\n",
    "# building a visualization of 1 to 50 neighbors\n",
    "neighbors_settings_knn = range(1, 49)\n",
    "\n",
    "\n",
    "for n_neighbors in neighbors_settings_knn:\n",
    "    # Building the model\n",
    "    clf = KNeighborsRegressor(n_neighbors = n_neighbors)\n",
    "    clf.fit(x_train_knn, y_train_knn)\n",
    "    \n",
    "    # Recording the training set accuracy\n",
    "    training_accuracy_knn.append(clf.score(x_train_knn, y_train_knn))\n",
    "    \n",
    "    # Recording the generalization accuracy\n",
    "    test_accuracy_knn.append(clf.score(x_test_knn, y_test_knn))\n",
    "\n",
    "\n",
    "# plotting the visualization\n",
    "fig, ax = plt.subplots(figsize=(12,8))\n",
    "plt.plot(neighbors_settings, training_accuracy_knn, label = \"training accuracy\")\n",
    "plt.plot(neighbors_settings, test_accuracy_knn, label = \"test accuracy\")\n",
    "plt.ylabel(\"Accuracy\")\n",
    "plt.xlabel(\"n_neighbors\")\n",
    "plt.legend()\n",
    "plt.show()\n",
    "\n",
    "# finding the optimal number of neighbors\n",
    "opt_neighbors_knn = test_accuracy_knn.index(max(test_accuracy_knn)) + 1\n",
    "print(f\"\"\"The optimal number of neighbors is {opt_neighbors_knn}\"\"\")"
   ]
  },
  {
   "cell_type": "code",
   "execution_count": 64,
   "id": "3edccdbf",
   "metadata": {},
   "outputs": [
    {
     "name": "stdout",
     "output_type": "stream",
     "text": [
      "KNN Training Score: 0.7222\n",
      "KNN Testing Score : 0.5438\n",
      "KNN Train-Test Gap: 0.1784\n"
     ]
    }
   ],
   "source": [
    "# Using ard dataset\n",
    "# INSTANTIATING a KNN model object\n",
    "knn_reg_knn = KNeighborsRegressor(algorithm = 'auto',\n",
    "                              n_neighbors = 5)\n",
    "\n",
    "\n",
    "# FITTING to the training data\n",
    "knn_fit_knn = knn_reg_knn.fit(x_train_knn, y_train_knn)\n",
    "\n",
    "\n",
    "# PREDICTING on new data\n",
    "knn_reg_pred_knn = knn_fit_knn.predict(x_test_knn)\n",
    "\n",
    "\n",
    "# SCORING the results\n",
    "print('KNN Training Score:', knn_reg_knn.score(x_train_knn, y_train_knn).round(4))\n",
    "print('KNN Testing Score :',  knn_reg_knn.score(x_test_knn, y_test_knn).round(4))\n",
    "\n",
    "\n",
    "# saving scoring data for future use\n",
    "knn_reg_score_train_knn = knn_reg_knn.score(x_train_knn, y_train_knn).round(4)\n",
    "knn_reg_score_test_knn  = knn_reg_knn.score(x_test_knn, y_test_knn).round(4)\n",
    "\n",
    "\n",
    "# displaying and saving the gap between training and testing\n",
    "print('KNN Train-Test Gap:', abs(knn_reg_score_train_knn - knn_reg_score_test_knn).round(4))\n",
    "knn_reg_test_gap_knn = abs(knn_reg_score_train_knn - knn_reg_score_test_knn).round(4)"
   ]
  },
  {
   "cell_type": "code",
   "execution_count": 66,
   "id": "9d40d63d",
   "metadata": {},
   "outputs": [
    {
     "name": "stdout",
     "output_type": "stream",
     "text": [
      "\n",
      "Model      Train Score      Test Score        Gap\n",
      "-----      -----------      ----------      ------------\n",
      "OLS        0.7302           0.6817           0.0485\n",
      "Lasso      0.7135           0.6431           0.0704\n",
      "ARD*       0.6756           0.7278           0.0522\n",
      "KNN        0.7222           0.5438           0.1784\n",
      "\n",
      "* Final model\n",
      "\n"
     ]
    }
   ],
   "source": [
    "# comparing results\n",
    "\n",
    "print(f\"\"\"\n",
    "Model      Train Score      Test Score        Gap\n",
    "-----      -----------      ----------      ------------\n",
    "OLS        {ols_train_score}           {ols_test_score}           {ols_gap}\n",
    "Lasso      {lasso_train_score}           {lasso_test_score}           {lasso_gap}\n",
    "ARD*       {ard_train_score_ard}           {ard_test_score_ard}           {ard_test_gap_ard}\n",
    "KNN        {knn_reg_score_train_knn}           {knn_reg_score_test_knn}           {knn_reg_test_gap_knn}\n",
    "\n",
    "* Final model\n",
    "\"\"\")\n"
   ]
  },
  {
   "cell_type": "code",
   "execution_count": null,
   "id": "9ac10e6e",
   "metadata": {},
   "outputs": [],
   "source": []
  }
 ],
 "metadata": {
  "kernelspec": {
   "display_name": "Python 3 (ipykernel)",
   "language": "python",
   "name": "python3"
  },
  "language_info": {
   "codemirror_mode": {
    "name": "ipython",
    "version": 3
   },
   "file_extension": ".py",
   "mimetype": "text/x-python",
   "name": "python",
   "nbconvert_exporter": "python",
   "pygments_lexer": "ipython3",
   "version": "3.8.8"
  },
  "toc": {
   "base_numbering": 1,
   "nav_menu": {},
   "number_sections": true,
   "sideBar": true,
   "skip_h1_title": false,
   "title_cell": "Table of Contents",
   "title_sidebar": "Contents",
   "toc_cell": false,
   "toc_position": {
    "height": "calc(100% - 180px)",
    "left": "10px",
    "top": "150px",
    "width": "426.656px"
   },
   "toc_section_display": true,
   "toc_window_display": true
  },
  "varInspector": {
   "cols": {
    "lenName": 16,
    "lenType": 16,
    "lenVar": 40
   },
   "kernels_config": {
    "python": {
     "delete_cmd_postfix": "",
     "delete_cmd_prefix": "del ",
     "library": "var_list.py",
     "varRefreshCmd": "print(var_dic_list())"
    },
    "r": {
     "delete_cmd_postfix": ") ",
     "delete_cmd_prefix": "rm(",
     "library": "var_list.r",
     "varRefreshCmd": "cat(var_dic_list()) "
    }
   },
   "types_to_exclude": [
    "module",
    "function",
    "builtin_function_or_method",
    "instance",
    "_Feature"
   ],
   "window_display": false
  }
 },
 "nbformat": 4,
 "nbformat_minor": 5
}
